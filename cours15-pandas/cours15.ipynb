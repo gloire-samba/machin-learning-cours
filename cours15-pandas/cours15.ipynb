{
 "cells": [
  {
   "cell_type": "code",
   "execution_count": 161,
   "id": "70c776f6",
   "metadata": {},
   "outputs": [],
   "source": [
    "import numpy as np\n",
    "import pandas as pd\n",
    "import matplotlib.pyplot as plt"
   ]
  },
  {
   "cell_type": "code",
   "execution_count": 162,
   "id": "0a519cfc",
   "metadata": {},
   "outputs": [],
   "source": [
    "data = pd.read_excel(\"titanic.xls\")"
   ]
  },
  {
   "cell_type": "code",
   "execution_count": 163,
   "id": "4d232a27",
   "metadata": {},
   "outputs": [
    {
     "name": "stdout",
     "output_type": "stream",
     "text": [
      "(1309, 14)\n"
     ]
    }
   ],
   "source": [
    "print(data.shape)\n"
   ]
  },
  {
   "cell_type": "code",
   "execution_count": 164,
   "id": "38467269",
   "metadata": {},
   "outputs": [
    {
     "name": "stdout",
     "output_type": "stream",
     "text": [
      "Index(['pclass', 'survived', 'name', 'sex', 'age', 'sibsp', 'parch', 'ticket',\n",
      "       'fare', 'cabin', 'embarked', 'boat', 'body', 'home.dest'],\n",
      "      dtype='object')\n"
     ]
    }
   ],
   "source": [
    "print(data.columns)\n"
   ]
  },
  {
   "cell_type": "code",
   "execution_count": 165,
   "id": "cd319fa2",
   "metadata": {},
   "outputs": [
    {
     "data": {
      "application/vnd.microsoft.datawrangler.viewer.v0+json": {
       "columns": [
        {
         "name": "index",
         "rawType": "int64",
         "type": "integer"
        },
        {
         "name": "pclass",
         "rawType": "int64",
         "type": "integer"
        },
        {
         "name": "survived",
         "rawType": "int64",
         "type": "integer"
        },
        {
         "name": "name",
         "rawType": "object",
         "type": "string"
        },
        {
         "name": "sex",
         "rawType": "object",
         "type": "string"
        },
        {
         "name": "age",
         "rawType": "float64",
         "type": "float"
        },
        {
         "name": "sibsp",
         "rawType": "int64",
         "type": "integer"
        },
        {
         "name": "parch",
         "rawType": "int64",
         "type": "integer"
        },
        {
         "name": "ticket",
         "rawType": "object",
         "type": "unknown"
        },
        {
         "name": "fare",
         "rawType": "float64",
         "type": "float"
        },
        {
         "name": "cabin",
         "rawType": "object",
         "type": "string"
        },
        {
         "name": "embarked",
         "rawType": "object",
         "type": "string"
        },
        {
         "name": "boat",
         "rawType": "object",
         "type": "unknown"
        },
        {
         "name": "body",
         "rawType": "float64",
         "type": "float"
        },
        {
         "name": "home.dest",
         "rawType": "object",
         "type": "string"
        }
       ],
       "ref": "927b66b5-ce6b-453a-9e0b-8dcc1e4b0d6d",
       "rows": [
        [
         "0",
         "1",
         "1",
         "Allen, Miss. Elisabeth Walton",
         "female",
         "29.0",
         "0",
         "0",
         "24160",
         "211.3375",
         "B5",
         "S",
         "2",
         null,
         "St Louis, MO"
        ],
        [
         "1",
         "1",
         "1",
         "Allison, Master. Hudson Trevor",
         "male",
         "0.9167",
         "1",
         "2",
         "113781",
         "151.55",
         "C22 C26",
         "S",
         "11",
         null,
         "Montreal, PQ / Chesterville, ON"
        ],
        [
         "2",
         "1",
         "0",
         "Allison, Miss. Helen Loraine",
         "female",
         "2.0",
         "1",
         "2",
         "113781",
         "151.55",
         "C22 C26",
         "S",
         null,
         null,
         "Montreal, PQ / Chesterville, ON"
        ],
        [
         "3",
         "1",
         "0",
         "Allison, Mr. Hudson Joshua Creighton",
         "male",
         "30.0",
         "1",
         "2",
         "113781",
         "151.55",
         "C22 C26",
         "S",
         null,
         "135.0",
         "Montreal, PQ / Chesterville, ON"
        ],
        [
         "4",
         "1",
         "0",
         "Allison, Mrs. Hudson J C (Bessie Waldo Daniels)",
         "female",
         "25.0",
         "1",
         "2",
         "113781",
         "151.55",
         "C22 C26",
         "S",
         null,
         null,
         "Montreal, PQ / Chesterville, ON"
        ]
       ],
       "shape": {
        "columns": 14,
        "rows": 5
       }
      },
      "text/html": [
       "<div>\n",
       "<style scoped>\n",
       "    .dataframe tbody tr th:only-of-type {\n",
       "        vertical-align: middle;\n",
       "    }\n",
       "\n",
       "    .dataframe tbody tr th {\n",
       "        vertical-align: top;\n",
       "    }\n",
       "\n",
       "    .dataframe thead th {\n",
       "        text-align: right;\n",
       "    }\n",
       "</style>\n",
       "<table border=\"1\" class=\"dataframe\">\n",
       "  <thead>\n",
       "    <tr style=\"text-align: right;\">\n",
       "      <th></th>\n",
       "      <th>pclass</th>\n",
       "      <th>survived</th>\n",
       "      <th>name</th>\n",
       "      <th>sex</th>\n",
       "      <th>age</th>\n",
       "      <th>sibsp</th>\n",
       "      <th>parch</th>\n",
       "      <th>ticket</th>\n",
       "      <th>fare</th>\n",
       "      <th>cabin</th>\n",
       "      <th>embarked</th>\n",
       "      <th>boat</th>\n",
       "      <th>body</th>\n",
       "      <th>home.dest</th>\n",
       "    </tr>\n",
       "  </thead>\n",
       "  <tbody>\n",
       "    <tr>\n",
       "      <th>0</th>\n",
       "      <td>1</td>\n",
       "      <td>1</td>\n",
       "      <td>Allen, Miss. Elisabeth Walton</td>\n",
       "      <td>female</td>\n",
       "      <td>29.0000</td>\n",
       "      <td>0</td>\n",
       "      <td>0</td>\n",
       "      <td>24160</td>\n",
       "      <td>211.3375</td>\n",
       "      <td>B5</td>\n",
       "      <td>S</td>\n",
       "      <td>2</td>\n",
       "      <td>NaN</td>\n",
       "      <td>St Louis, MO</td>\n",
       "    </tr>\n",
       "    <tr>\n",
       "      <th>1</th>\n",
       "      <td>1</td>\n",
       "      <td>1</td>\n",
       "      <td>Allison, Master. Hudson Trevor</td>\n",
       "      <td>male</td>\n",
       "      <td>0.9167</td>\n",
       "      <td>1</td>\n",
       "      <td>2</td>\n",
       "      <td>113781</td>\n",
       "      <td>151.5500</td>\n",
       "      <td>C22 C26</td>\n",
       "      <td>S</td>\n",
       "      <td>11</td>\n",
       "      <td>NaN</td>\n",
       "      <td>Montreal, PQ / Chesterville, ON</td>\n",
       "    </tr>\n",
       "    <tr>\n",
       "      <th>2</th>\n",
       "      <td>1</td>\n",
       "      <td>0</td>\n",
       "      <td>Allison, Miss. Helen Loraine</td>\n",
       "      <td>female</td>\n",
       "      <td>2.0000</td>\n",
       "      <td>1</td>\n",
       "      <td>2</td>\n",
       "      <td>113781</td>\n",
       "      <td>151.5500</td>\n",
       "      <td>C22 C26</td>\n",
       "      <td>S</td>\n",
       "      <td>NaN</td>\n",
       "      <td>NaN</td>\n",
       "      <td>Montreal, PQ / Chesterville, ON</td>\n",
       "    </tr>\n",
       "    <tr>\n",
       "      <th>3</th>\n",
       "      <td>1</td>\n",
       "      <td>0</td>\n",
       "      <td>Allison, Mr. Hudson Joshua Creighton</td>\n",
       "      <td>male</td>\n",
       "      <td>30.0000</td>\n",
       "      <td>1</td>\n",
       "      <td>2</td>\n",
       "      <td>113781</td>\n",
       "      <td>151.5500</td>\n",
       "      <td>C22 C26</td>\n",
       "      <td>S</td>\n",
       "      <td>NaN</td>\n",
       "      <td>135.0</td>\n",
       "      <td>Montreal, PQ / Chesterville, ON</td>\n",
       "    </tr>\n",
       "    <tr>\n",
       "      <th>4</th>\n",
       "      <td>1</td>\n",
       "      <td>0</td>\n",
       "      <td>Allison, Mrs. Hudson J C (Bessie Waldo Daniels)</td>\n",
       "      <td>female</td>\n",
       "      <td>25.0000</td>\n",
       "      <td>1</td>\n",
       "      <td>2</td>\n",
       "      <td>113781</td>\n",
       "      <td>151.5500</td>\n",
       "      <td>C22 C26</td>\n",
       "      <td>S</td>\n",
       "      <td>NaN</td>\n",
       "      <td>NaN</td>\n",
       "      <td>Montreal, PQ / Chesterville, ON</td>\n",
       "    </tr>\n",
       "  </tbody>\n",
       "</table>\n",
       "</div>"
      ],
      "text/plain": [
       "   pclass  survived                                             name     sex  \\\n",
       "0       1         1                    Allen, Miss. Elisabeth Walton  female   \n",
       "1       1         1                   Allison, Master. Hudson Trevor    male   \n",
       "2       1         0                     Allison, Miss. Helen Loraine  female   \n",
       "3       1         0             Allison, Mr. Hudson Joshua Creighton    male   \n",
       "4       1         0  Allison, Mrs. Hudson J C (Bessie Waldo Daniels)  female   \n",
       "\n",
       "       age  sibsp  parch  ticket      fare    cabin embarked boat   body  \\\n",
       "0  29.0000      0      0   24160  211.3375       B5        S    2    NaN   \n",
       "1   0.9167      1      2  113781  151.5500  C22 C26        S   11    NaN   \n",
       "2   2.0000      1      2  113781  151.5500  C22 C26        S  NaN    NaN   \n",
       "3  30.0000      1      2  113781  151.5500  C22 C26        S  NaN  135.0   \n",
       "4  25.0000      1      2  113781  151.5500  C22 C26        S  NaN    NaN   \n",
       "\n",
       "                         home.dest  \n",
       "0                     St Louis, MO  \n",
       "1  Montreal, PQ / Chesterville, ON  \n",
       "2  Montreal, PQ / Chesterville, ON  \n",
       "3  Montreal, PQ / Chesterville, ON  \n",
       "4  Montreal, PQ / Chesterville, ON  "
      ]
     },
     "execution_count": 165,
     "metadata": {},
     "output_type": "execute_result"
    }
   ],
   "source": [
    "data.head()"
   ]
  },
  {
   "cell_type": "code",
   "execution_count": 166,
   "id": "2e28a2bd",
   "metadata": {},
   "outputs": [
    {
     "data": {
      "application/vnd.microsoft.datawrangler.viewer.v0+json": {
       "columns": [
        {
         "name": "index",
         "rawType": "int64",
         "type": "integer"
        },
        {
         "name": "pclass",
         "rawType": "int64",
         "type": "integer"
        },
        {
         "name": "survived",
         "rawType": "int64",
         "type": "integer"
        },
        {
         "name": "name",
         "rawType": "object",
         "type": "string"
        },
        {
         "name": "sex",
         "rawType": "object",
         "type": "string"
        },
        {
         "name": "age",
         "rawType": "float64",
         "type": "float"
        }
       ],
       "ref": "27698e48-2865-4005-b002-7b5b76ff1a6b",
       "rows": [
        [
         "0",
         "1",
         "1",
         "Allen, Miss. Elisabeth Walton",
         "female",
         "29.0"
        ],
        [
         "1",
         "1",
         "1",
         "Allison, Master. Hudson Trevor",
         "male",
         "0.9167"
        ],
        [
         "2",
         "1",
         "0",
         "Allison, Miss. Helen Loraine",
         "female",
         "2.0"
        ],
        [
         "3",
         "1",
         "0",
         "Allison, Mr. Hudson Joshua Creighton",
         "male",
         "30.0"
        ],
        [
         "4",
         "1",
         "0",
         "Allison, Mrs. Hudson J C (Bessie Waldo Daniels)",
         "female",
         "25.0"
        ]
       ],
       "shape": {
        "columns": 5,
        "rows": 5
       }
      },
      "text/html": [
       "<div>\n",
       "<style scoped>\n",
       "    .dataframe tbody tr th:only-of-type {\n",
       "        vertical-align: middle;\n",
       "    }\n",
       "\n",
       "    .dataframe tbody tr th {\n",
       "        vertical-align: top;\n",
       "    }\n",
       "\n",
       "    .dataframe thead th {\n",
       "        text-align: right;\n",
       "    }\n",
       "</style>\n",
       "<table border=\"1\" class=\"dataframe\">\n",
       "  <thead>\n",
       "    <tr style=\"text-align: right;\">\n",
       "      <th></th>\n",
       "      <th>pclass</th>\n",
       "      <th>survived</th>\n",
       "      <th>name</th>\n",
       "      <th>sex</th>\n",
       "      <th>age</th>\n",
       "    </tr>\n",
       "  </thead>\n",
       "  <tbody>\n",
       "    <tr>\n",
       "      <th>0</th>\n",
       "      <td>1</td>\n",
       "      <td>1</td>\n",
       "      <td>Allen, Miss. Elisabeth Walton</td>\n",
       "      <td>female</td>\n",
       "      <td>29.0000</td>\n",
       "    </tr>\n",
       "    <tr>\n",
       "      <th>1</th>\n",
       "      <td>1</td>\n",
       "      <td>1</td>\n",
       "      <td>Allison, Master. Hudson Trevor</td>\n",
       "      <td>male</td>\n",
       "      <td>0.9167</td>\n",
       "    </tr>\n",
       "    <tr>\n",
       "      <th>2</th>\n",
       "      <td>1</td>\n",
       "      <td>0</td>\n",
       "      <td>Allison, Miss. Helen Loraine</td>\n",
       "      <td>female</td>\n",
       "      <td>2.0000</td>\n",
       "    </tr>\n",
       "    <tr>\n",
       "      <th>3</th>\n",
       "      <td>1</td>\n",
       "      <td>0</td>\n",
       "      <td>Allison, Mr. Hudson Joshua Creighton</td>\n",
       "      <td>male</td>\n",
       "      <td>30.0000</td>\n",
       "    </tr>\n",
       "    <tr>\n",
       "      <th>4</th>\n",
       "      <td>1</td>\n",
       "      <td>0</td>\n",
       "      <td>Allison, Mrs. Hudson J C (Bessie Waldo Daniels)</td>\n",
       "      <td>female</td>\n",
       "      <td>25.0000</td>\n",
       "    </tr>\n",
       "  </tbody>\n",
       "</table>\n",
       "</div>"
      ],
      "text/plain": [
       "   pclass  survived                                             name     sex  \\\n",
       "0       1         1                    Allen, Miss. Elisabeth Walton  female   \n",
       "1       1         1                   Allison, Master. Hudson Trevor    male   \n",
       "2       1         0                     Allison, Miss. Helen Loraine  female   \n",
       "3       1         0             Allison, Mr. Hudson Joshua Creighton    male   \n",
       "4       1         0  Allison, Mrs. Hudson J C (Bessie Waldo Daniels)  female   \n",
       "\n",
       "       age  \n",
       "0  29.0000  \n",
       "1   0.9167  \n",
       "2   2.0000  \n",
       "3  30.0000  \n",
       "4  25.0000  "
      ]
     },
     "execution_count": 166,
     "metadata": {},
     "output_type": "execute_result"
    }
   ],
   "source": [
    "data = data.drop([\"sibsp\",\"parch\",\"ticket\",\"fare\",\"cabin\",\"embarked\",\"boat\",\"body\",\"home.dest\"],axis=1)\n",
    "data.head()"
   ]
  },
  {
   "cell_type": "code",
   "execution_count": 167,
   "id": "0619df42",
   "metadata": {},
   "outputs": [
    {
     "data": {
      "application/vnd.microsoft.datawrangler.viewer.v0+json": {
       "columns": [
        {
         "name": "index",
         "rawType": "object",
         "type": "string"
        },
        {
         "name": "pclass",
         "rawType": "float64",
         "type": "float"
        },
        {
         "name": "survived",
         "rawType": "float64",
         "type": "float"
        },
        {
         "name": "age",
         "rawType": "float64",
         "type": "float"
        }
       ],
       "ref": "51ab0ffa-252d-4573-a2fc-5a82e65856f5",
       "rows": [
        [
         "count",
         "1309.0",
         "1309.0",
         "1046.0"
        ],
        [
         "mean",
         "2.294881588999236",
         "0.3819709702062643",
         "29.8811345124283"
        ],
        [
         "std",
         "0.837836018970131",
         "0.48605517086648004",
         "14.413499699923594"
        ],
        [
         "min",
         "1.0",
         "0.0",
         "0.1667"
        ],
        [
         "25%",
         "2.0",
         "0.0",
         "21.0"
        ],
        [
         "50%",
         "3.0",
         "0.0",
         "28.0"
        ],
        [
         "75%",
         "3.0",
         "1.0",
         "39.0"
        ],
        [
         "max",
         "3.0",
         "1.0",
         "80.0"
        ]
       ],
       "shape": {
        "columns": 3,
        "rows": 8
       }
      },
      "text/html": [
       "<div>\n",
       "<style scoped>\n",
       "    .dataframe tbody tr th:only-of-type {\n",
       "        vertical-align: middle;\n",
       "    }\n",
       "\n",
       "    .dataframe tbody tr th {\n",
       "        vertical-align: top;\n",
       "    }\n",
       "\n",
       "    .dataframe thead th {\n",
       "        text-align: right;\n",
       "    }\n",
       "</style>\n",
       "<table border=\"1\" class=\"dataframe\">\n",
       "  <thead>\n",
       "    <tr style=\"text-align: right;\">\n",
       "      <th></th>\n",
       "      <th>pclass</th>\n",
       "      <th>survived</th>\n",
       "      <th>age</th>\n",
       "    </tr>\n",
       "  </thead>\n",
       "  <tbody>\n",
       "    <tr>\n",
       "      <th>count</th>\n",
       "      <td>1309.000000</td>\n",
       "      <td>1309.000000</td>\n",
       "      <td>1046.000000</td>\n",
       "    </tr>\n",
       "    <tr>\n",
       "      <th>mean</th>\n",
       "      <td>2.294882</td>\n",
       "      <td>0.381971</td>\n",
       "      <td>29.881135</td>\n",
       "    </tr>\n",
       "    <tr>\n",
       "      <th>std</th>\n",
       "      <td>0.837836</td>\n",
       "      <td>0.486055</td>\n",
       "      <td>14.413500</td>\n",
       "    </tr>\n",
       "    <tr>\n",
       "      <th>min</th>\n",
       "      <td>1.000000</td>\n",
       "      <td>0.000000</td>\n",
       "      <td>0.166700</td>\n",
       "    </tr>\n",
       "    <tr>\n",
       "      <th>25%</th>\n",
       "      <td>2.000000</td>\n",
       "      <td>0.000000</td>\n",
       "      <td>21.000000</td>\n",
       "    </tr>\n",
       "    <tr>\n",
       "      <th>50%</th>\n",
       "      <td>3.000000</td>\n",
       "      <td>0.000000</td>\n",
       "      <td>28.000000</td>\n",
       "    </tr>\n",
       "    <tr>\n",
       "      <th>75%</th>\n",
       "      <td>3.000000</td>\n",
       "      <td>1.000000</td>\n",
       "      <td>39.000000</td>\n",
       "    </tr>\n",
       "    <tr>\n",
       "      <th>max</th>\n",
       "      <td>3.000000</td>\n",
       "      <td>1.000000</td>\n",
       "      <td>80.000000</td>\n",
       "    </tr>\n",
       "  </tbody>\n",
       "</table>\n",
       "</div>"
      ],
      "text/plain": [
       "            pclass     survived          age\n",
       "count  1309.000000  1309.000000  1046.000000\n",
       "mean      2.294882     0.381971    29.881135\n",
       "std       0.837836     0.486055    14.413500\n",
       "min       1.000000     0.000000     0.166700\n",
       "25%       2.000000     0.000000    21.000000\n",
       "50%       3.000000     0.000000    28.000000\n",
       "75%       3.000000     1.000000    39.000000\n",
       "max       3.000000     1.000000    80.000000"
      ]
     },
     "execution_count": 167,
     "metadata": {},
     "output_type": "execute_result"
    }
   ],
   "source": [
    "data.describe()"
   ]
  },
  {
   "cell_type": "code",
   "execution_count": 168,
   "id": "6607118f",
   "metadata": {},
   "outputs": [
    {
     "data": {
      "text/plain": [
       "(1046, 5)"
      ]
     },
     "execution_count": 168,
     "metadata": {},
     "output_type": "execute_result"
    }
   ],
   "source": [
    "data = data.dropna(axis = 0)\n",
    "data.shape"
   ]
  },
  {
   "cell_type": "code",
   "execution_count": 169,
   "id": "4824cdd1",
   "metadata": {},
   "outputs": [
    {
     "data": {
      "application/vnd.microsoft.datawrangler.viewer.v0+json": {
       "columns": [
        {
         "name": "index",
         "rawType": "object",
         "type": "string"
        },
        {
         "name": "pclass",
         "rawType": "float64",
         "type": "float"
        },
        {
         "name": "survived",
         "rawType": "float64",
         "type": "float"
        },
        {
         "name": "age",
         "rawType": "float64",
         "type": "float"
        }
       ],
       "ref": "7e68abb3-444a-4e9d-b377-cd2216db253f",
       "rows": [
        [
         "count",
         "1046.0",
         "1046.0",
         "1046.0"
        ],
        [
         "mean",
         "2.207456978967495",
         "0.40822179732313574",
         "29.8811345124283"
        ],
        [
         "std",
         "0.8414966363904856",
         "0.49173970294034935",
         "14.413499699923594"
        ],
        [
         "min",
         "1.0",
         "0.0",
         "0.1667"
        ],
        [
         "25%",
         "1.0",
         "0.0",
         "21.0"
        ],
        [
         "50%",
         "2.0",
         "0.0",
         "28.0"
        ],
        [
         "75%",
         "3.0",
         "1.0",
         "39.0"
        ],
        [
         "max",
         "3.0",
         "1.0",
         "80.0"
        ]
       ],
       "shape": {
        "columns": 3,
        "rows": 8
       }
      },
      "text/html": [
       "<div>\n",
       "<style scoped>\n",
       "    .dataframe tbody tr th:only-of-type {\n",
       "        vertical-align: middle;\n",
       "    }\n",
       "\n",
       "    .dataframe tbody tr th {\n",
       "        vertical-align: top;\n",
       "    }\n",
       "\n",
       "    .dataframe thead th {\n",
       "        text-align: right;\n",
       "    }\n",
       "</style>\n",
       "<table border=\"1\" class=\"dataframe\">\n",
       "  <thead>\n",
       "    <tr style=\"text-align: right;\">\n",
       "      <th></th>\n",
       "      <th>pclass</th>\n",
       "      <th>survived</th>\n",
       "      <th>age</th>\n",
       "    </tr>\n",
       "  </thead>\n",
       "  <tbody>\n",
       "    <tr>\n",
       "      <th>count</th>\n",
       "      <td>1046.000000</td>\n",
       "      <td>1046.000000</td>\n",
       "      <td>1046.000000</td>\n",
       "    </tr>\n",
       "    <tr>\n",
       "      <th>mean</th>\n",
       "      <td>2.207457</td>\n",
       "      <td>0.408222</td>\n",
       "      <td>29.881135</td>\n",
       "    </tr>\n",
       "    <tr>\n",
       "      <th>std</th>\n",
       "      <td>0.841497</td>\n",
       "      <td>0.491740</td>\n",
       "      <td>14.413500</td>\n",
       "    </tr>\n",
       "    <tr>\n",
       "      <th>min</th>\n",
       "      <td>1.000000</td>\n",
       "      <td>0.000000</td>\n",
       "      <td>0.166700</td>\n",
       "    </tr>\n",
       "    <tr>\n",
       "      <th>25%</th>\n",
       "      <td>1.000000</td>\n",
       "      <td>0.000000</td>\n",
       "      <td>21.000000</td>\n",
       "    </tr>\n",
       "    <tr>\n",
       "      <th>50%</th>\n",
       "      <td>2.000000</td>\n",
       "      <td>0.000000</td>\n",
       "      <td>28.000000</td>\n",
       "    </tr>\n",
       "    <tr>\n",
       "      <th>75%</th>\n",
       "      <td>3.000000</td>\n",
       "      <td>1.000000</td>\n",
       "      <td>39.000000</td>\n",
       "    </tr>\n",
       "    <tr>\n",
       "      <th>max</th>\n",
       "      <td>3.000000</td>\n",
       "      <td>1.000000</td>\n",
       "      <td>80.000000</td>\n",
       "    </tr>\n",
       "  </tbody>\n",
       "</table>\n",
       "</div>"
      ],
      "text/plain": [
       "            pclass     survived          age\n",
       "count  1046.000000  1046.000000  1046.000000\n",
       "mean      2.207457     0.408222    29.881135\n",
       "std       0.841497     0.491740    14.413500\n",
       "min       1.000000     0.000000     0.166700\n",
       "25%       1.000000     0.000000    21.000000\n",
       "50%       2.000000     0.000000    28.000000\n",
       "75%       3.000000     1.000000    39.000000\n",
       "max       3.000000     1.000000    80.000000"
      ]
     },
     "execution_count": 169,
     "metadata": {},
     "output_type": "execute_result"
    }
   ],
   "source": [
    "data.describe()"
   ]
  },
  {
   "cell_type": "code",
   "execution_count": 170,
   "id": "70dae57d",
   "metadata": {},
   "outputs": [
    {
     "data": {
      "application/vnd.microsoft.datawrangler.viewer.v0+json": {
       "columns": [
        {
         "name": "pclass",
         "rawType": "int64",
         "type": "integer"
        },
        {
         "name": "count",
         "rawType": "int64",
         "type": "integer"
        }
       ],
       "ref": "e3665944-afa0-4204-a02a-c1bf55afad20",
       "rows": [
        [
         "3",
         "501"
        ],
        [
         "1",
         "284"
        ],
        [
         "2",
         "261"
        ]
       ],
       "shape": {
        "columns": 1,
        "rows": 3
       }
      },
      "text/plain": [
       "pclass\n",
       "3    501\n",
       "1    284\n",
       "2    261\n",
       "Name: count, dtype: int64"
      ]
     },
     "execution_count": 170,
     "metadata": {},
     "output_type": "execute_result"
    }
   ],
   "source": [
    "data[\"pclass\"].value_counts()"
   ]
  },
  {
   "cell_type": "code",
   "execution_count": 171,
   "id": "a5056119",
   "metadata": {},
   "outputs": [
    {
     "data": {
      "text/plain": [
       "<Axes: xlabel='pclass'>"
      ]
     },
     "execution_count": 171,
     "metadata": {},
     "output_type": "execute_result"
    },
    {
     "data": {
      "image/png": "[encoded data removed]",
      "text/plain": [
       "<Figure size 640x480 with 1 Axes>"
      ]
     },
     "metadata": {},
     "output_type": "display_data"
    }
   ],
   "source": [
    "data[\"pclass\"].value_counts().plot.bar()"
   ]
  },
  {
   "cell_type": "code",
   "execution_count": 172,
   "id": "14a8feb8",
   "metadata": {},
   "outputs": [
    {
     "data": {
      "text/plain": [
       "<Axes: >"
      ]
     },
     "execution_count": 172,
     "metadata": {},
     "output_type": "execute_result"
    },
    {
     "data": {
      "image/png": "[encoded data removed]",
      "text/plain": [
       "<Figure size 640x480 with 1 Axes>"
      ]
     },
     "metadata": {},
     "output_type": "display_data"
    }
   ],
   "source": [
    "data['age'].hist()"
   ]
  },
  {
   "cell_type": "code",
   "execution_count": 173,
   "id": "00ef52c7",
   "metadata": {},
   "outputs": [
    {
     "data": {
      "application/vnd.microsoft.datawrangler.viewer.v0+json": {
       "columns": [
        {
         "name": "sex",
         "rawType": "object",
         "type": "string"
        },
        {
         "name": "pclass",
         "rawType": "float64",
         "type": "float"
        },
        {
         "name": "survived",
         "rawType": "float64",
         "type": "float"
        },
        {
         "name": "age",
         "rawType": "float64",
         "type": "float"
        }
       ],
       "ref": "975575c6-d22e-4a7d-b6ac-17b696be640f",
       "rows": [
        [
         "female",
         "2.0489690721649483",
         "0.7525773195876289",
         "28.6870706185567"
        ],
        [
         "male",
         "2.3009118541033433",
         "0.20516717325227962",
         "30.5852329787234"
        ]
       ],
       "shape": {
        "columns": 3,
        "rows": 2
       }
      },
      "text/html": [
       "<div>\n",
       "<style scoped>\n",
       "    .dataframe tbody tr th:only-of-type {\n",
       "        vertical-align: middle;\n",
       "    }\n",
       "\n",
       "    .dataframe tbody tr th {\n",
       "        vertical-align: top;\n",
       "    }\n",
       "\n",
       "    .dataframe thead th {\n",
       "        text-align: right;\n",
       "    }\n",
       "</style>\n",
       "<table border=\"1\" class=\"dataframe\">\n",
       "  <thead>\n",
       "    <tr style=\"text-align: right;\">\n",
       "      <th></th>\n",
       "      <th>pclass</th>\n",
       "      <th>survived</th>\n",
       "      <th>age</th>\n",
       "    </tr>\n",
       "    <tr>\n",
       "      <th>sex</th>\n",
       "      <th></th>\n",
       "      <th></th>\n",
       "      <th></th>\n",
       "    </tr>\n",
       "  </thead>\n",
       "  <tbody>\n",
       "    <tr>\n",
       "      <th>female</th>\n",
       "      <td>2.048969</td>\n",
       "      <td>0.752577</td>\n",
       "      <td>28.687071</td>\n",
       "    </tr>\n",
       "    <tr>\n",
       "      <th>male</th>\n",
       "      <td>2.300912</td>\n",
       "      <td>0.205167</td>\n",
       "      <td>30.585233</td>\n",
       "    </tr>\n",
       "  </tbody>\n",
       "</table>\n",
       "</div>"
      ],
      "text/plain": [
       "          pclass  survived        age\n",
       "sex                                  \n",
       "female  2.048969  0.752577  28.687071\n",
       "male    2.300912  0.205167  30.585233"
      ]
     },
     "execution_count": 173,
     "metadata": {},
     "output_type": "execute_result"
    }
   ],
   "source": [
    "data.groupby([\"sex\"]).mean(numeric_only=True)"
   ]
  },
  {
   "cell_type": "code",
   "execution_count": 174,
   "id": "5ed56d57",
   "metadata": {},
   "outputs": [
    {
     "data": {
      "application/vnd.microsoft.datawrangler.viewer.v0+json": {
       "columns": [
        {
         "name": "('sex', 'pclass')",
         "rawType": "object",
         "type": "unknown"
        },
        {
         "name": "survived",
         "rawType": "float64",
         "type": "float"
        },
        {
         "name": "age",
         "rawType": "float64",
         "type": "float"
        }
       ],
       "ref": "0266d132-07c0-43af-91c1-4c514eab678f",
       "rows": [
        [
         "('female', 1)",
         "0.9624060150375939",
         "37.037593984962406"
        ],
        [
         "('female', 2)",
         "0.8932038834951457",
         "27.499191262135923"
        ],
        [
         "('female', 3)",
         "0.47368421052631576",
         "22.185307236842107"
        ],
        [
         "('male', 1)",
         "0.3509933774834437",
         "41.02924966887417"
        ],
        [
         "('male', 2)",
         "0.14556962025316456",
         "30.815400632911395"
        ],
        [
         "('male', 3)",
         "0.16905444126074498",
         "25.96227306590258"
        ]
       ],
       "shape": {
        "columns": 2,
        "rows": 6
       }
      },
      "text/html": [
       "<div>\n",
       "<style scoped>\n",
       "    .dataframe tbody tr th:only-of-type {\n",
       "        vertical-align: middle;\n",
       "    }\n",
       "\n",
       "    .dataframe tbody tr th {\n",
       "        vertical-align: top;\n",
       "    }\n",
       "\n",
       "    .dataframe thead th {\n",
       "        text-align: right;\n",
       "    }\n",
       "</style>\n",
       "<table border=\"1\" class=\"dataframe\">\n",
       "  <thead>\n",
       "    <tr style=\"text-align: right;\">\n",
       "      <th></th>\n",
       "      <th></th>\n",
       "      <th>survived</th>\n",
       "      <th>age</th>\n",
       "    </tr>\n",
       "    <tr>\n",
       "      <th>sex</th>\n",
       "      <th>pclass</th>\n",
       "      <th></th>\n",
       "      <th></th>\n",
       "    </tr>\n",
       "  </thead>\n",
       "  <tbody>\n",
       "    <tr>\n",
       "      <th rowspan=\"3\" valign=\"top\">female</th>\n",
       "      <th>1</th>\n",
       "      <td>0.962406</td>\n",
       "      <td>37.037594</td>\n",
       "    </tr>\n",
       "    <tr>\n",
       "      <th>2</th>\n",
       "      <td>0.893204</td>\n",
       "      <td>27.499191</td>\n",
       "    </tr>\n",
       "    <tr>\n",
       "      <th>3</th>\n",
       "      <td>0.473684</td>\n",
       "      <td>22.185307</td>\n",
       "    </tr>\n",
       "    <tr>\n",
       "      <th rowspan=\"3\" valign=\"top\">male</th>\n",
       "      <th>1</th>\n",
       "      <td>0.350993</td>\n",
       "      <td>41.029250</td>\n",
       "    </tr>\n",
       "    <tr>\n",
       "      <th>2</th>\n",
       "      <td>0.145570</td>\n",
       "      <td>30.815401</td>\n",
       "    </tr>\n",
       "    <tr>\n",
       "      <th>3</th>\n",
       "      <td>0.169054</td>\n",
       "      <td>25.962273</td>\n",
       "    </tr>\n",
       "  </tbody>\n",
       "</table>\n",
       "</div>"
      ],
      "text/plain": [
       "               survived        age\n",
       "sex    pclass                     \n",
       "female 1       0.962406  37.037594\n",
       "       2       0.893204  27.499191\n",
       "       3       0.473684  22.185307\n",
       "male   1       0.350993  41.029250\n",
       "       2       0.145570  30.815401\n",
       "       3       0.169054  25.962273"
      ]
     },
     "execution_count": 174,
     "metadata": {},
     "output_type": "execute_result"
    }
   ],
   "source": [
    "data.groupby([\"sex\",\"pclass\"]).mean(numeric_only=True)"
   ]
  },
  {
   "cell_type": "code",
   "execution_count": 175,
   "id": "731a1aab",
   "metadata": {},
   "outputs": [
    {
     "data": {
      "application/vnd.microsoft.datawrangler.viewer.v0+json": {
       "columns": [
        {
         "name": "index",
         "rawType": "int64",
         "type": "integer"
        },
        {
         "name": "age",
         "rawType": "float64",
         "type": "float"
        }
       ],
       "ref": "8710a3ab-a457-474b-9432-86ecc7c4bb74",
       "rows": [
        [
         "0",
         "29.0"
        ],
        [
         "1",
         "0.9167"
        ],
        [
         "2",
         "2.0"
        ],
        [
         "3",
         "30.0"
        ],
        [
         "4",
         "25.0"
        ],
        [
         "5",
         "48.0"
        ],
        [
         "6",
         "63.0"
        ],
        [
         "7",
         "39.0"
        ],
        [
         "8",
         "53.0"
        ],
        [
         "9",
         "71.0"
        ],
        [
         "10",
         "47.0"
        ],
        [
         "11",
         "18.0"
        ],
        [
         "12",
         "24.0"
        ],
        [
         "13",
         "26.0"
        ],
        [
         "14",
         "80.0"
        ],
        [
         "16",
         "24.0"
        ],
        [
         "17",
         "50.0"
        ],
        [
         "18",
         "32.0"
        ],
        [
         "19",
         "36.0"
        ],
        [
         "20",
         "37.0"
        ],
        [
         "21",
         "47.0"
        ],
        [
         "22",
         "26.0"
        ],
        [
         "23",
         "42.0"
        ],
        [
         "24",
         "29.0"
        ],
        [
         "25",
         "25.0"
        ],
        [
         "26",
         "25.0"
        ],
        [
         "27",
         "19.0"
        ],
        [
         "28",
         "35.0"
        ],
        [
         "29",
         "28.0"
        ],
        [
         "30",
         "45.0"
        ],
        [
         "31",
         "40.0"
        ],
        [
         "32",
         "30.0"
        ],
        [
         "33",
         "58.0"
        ],
        [
         "34",
         "42.0"
        ],
        [
         "35",
         "45.0"
        ],
        [
         "36",
         "22.0"
        ],
        [
         "38",
         "41.0"
        ],
        [
         "39",
         "48.0"
        ],
        [
         "41",
         "44.0"
        ],
        [
         "42",
         "59.0"
        ],
        [
         "43",
         "60.0"
        ],
        [
         "44",
         "41.0"
        ],
        [
         "45",
         "45.0"
        ],
        [
         "47",
         "42.0"
        ],
        [
         "48",
         "53.0"
        ],
        [
         "49",
         "36.0"
        ],
        [
         "50",
         "58.0"
        ],
        [
         "51",
         "33.0"
        ],
        [
         "52",
         "28.0"
        ],
        [
         "53",
         "17.0"
        ]
       ],
       "shape": {
        "columns": 1,
        "rows": 1046
       }
      },
      "text/plain": [
       "0       29.0000\n",
       "1        0.9167\n",
       "2        2.0000\n",
       "3       30.0000\n",
       "4       25.0000\n",
       "         ...   \n",
       "1301    45.5000\n",
       "1304    14.5000\n",
       "1306    26.5000\n",
       "1307    27.0000\n",
       "1308    29.0000\n",
       "Name: age, Length: 1046, dtype: float64"
      ]
     },
     "execution_count": 175,
     "metadata": {},
     "output_type": "execute_result"
    }
   ],
   "source": [
    "data[\"age\"]"
   ]
  },
  {
   "cell_type": "code",
   "execution_count": 176,
   "id": "a14d8616",
   "metadata": {},
   "outputs": [
    {
     "data": {
      "application/vnd.microsoft.datawrangler.viewer.v0+json": {
       "columns": [
        {
         "name": "name",
         "rawType": "object",
         "type": "string"
        },
        {
         "name": "age",
         "rawType": "float64",
         "type": "float"
        }
       ],
       "ref": "8e83bdd9-33f8-4856-a889-ef32af76edd2",
       "rows": [
        [
         "Allen, Miss. Elisabeth Walton",
         "29.0"
        ],
        [
         "Allison, Master. Hudson Trevor",
         "0.9167"
        ],
        [
         "Allison, Miss. Helen Loraine",
         "2.0"
        ],
        [
         "Allison, Mr. Hudson Joshua Creighton",
         "30.0"
        ],
        [
         "Allison, Mrs. Hudson J C (Bessie Waldo Daniels)",
         "25.0"
        ],
        [
         "Anderson, Mr. Harry",
         "48.0"
        ],
        [
         "Andrews, Miss. Kornelia Theodosia",
         "63.0"
        ],
        [
         "Andrews, Mr. Thomas Jr",
         "39.0"
        ],
        [
         "Appleton, Mrs. Edward Dale (Charlotte Lamson)",
         "53.0"
        ],
        [
         "Artagaveytia, Mr. Ramon",
         "71.0"
        ],
        [
         "Astor, Col. John Jacob",
         "47.0"
        ],
        [
         "Astor, Mrs. John Jacob (Madeleine Talmadge Force)",
         "18.0"
        ],
        [
         "Aubart, Mme. Leontine Pauline",
         "24.0"
        ],
        [
         "Barber, Miss. Ellen \"Nellie\"",
         "26.0"
        ],
        [
         "Barkworth, Mr. Algernon Henry Wilson",
         "80.0"
        ],
        [
         "Baxter, Mr. Quigg Edmond",
         "24.0"
        ],
        [
         "Baxter, Mrs. James (Helene DeLaudeniere Chaput)",
         "50.0"
        ],
        [
         "Bazzani, Miss. Albina",
         "32.0"
        ],
        [
         "Beattie, Mr. Thomson",
         "36.0"
        ],
        [
         "Beckwith, Mr. Richard Leonard",
         "37.0"
        ],
        [
         "Beckwith, Mrs. Richard Leonard (Sallie Monypeny)",
         "47.0"
        ],
        [
         "Behr, Mr. Karl Howell",
         "26.0"
        ],
        [
         "Bidois, Miss. Rosalie",
         "42.0"
        ],
        [
         "Bird, Miss. Ellen",
         "29.0"
        ],
        [
         "Birnbaum, Mr. Jakob",
         "25.0"
        ],
        [
         "Bishop, Mr. Dickinson H",
         "25.0"
        ],
        [
         "Bishop, Mrs. Dickinson H (Helen Walton)",
         "19.0"
        ],
        [
         "Bissette, Miss. Amelia",
         "35.0"
        ],
        [
         "Bjornstrom-Steffansson, Mr. Mauritz Hakan",
         "28.0"
        ],
        [
         "Blackwell, Mr. Stephen Weart",
         "45.0"
        ],
        [
         "Blank, Mr. Henry",
         "40.0"
        ],
        [
         "Bonnell, Miss. Caroline",
         "30.0"
        ],
        [
         "Bonnell, Miss. Elizabeth",
         "58.0"
        ],
        [
         "Borebank, Mr. John James",
         "42.0"
        ],
        [
         "Bowen, Miss. Grace Scott",
         "45.0"
        ],
        [
         "Bowerman, Miss. Elsie Edith",
         "22.0"
        ],
        [
         "Brady, Mr. John Bertram",
         "41.0"
        ],
        [
         "Brandeis, Mr. Emil",
         "48.0"
        ],
        [
         "Brown, Mrs. James Joseph (Margaret Tobin)",
         "44.0"
        ],
        [
         "Brown, Mrs. John Murray (Caroline Lane Lamson)",
         "59.0"
        ],
        [
         "Bucknell, Mrs. William Robert (Emma Eliza Ward)",
         "60.0"
        ],
        [
         "Burns, Miss. Elizabeth Margaret",
         "41.0"
        ],
        [
         "Butt, Major. Archibald Willingham",
         "45.0"
        ],
        [
         "Calderhead, Mr. Edward Pennington",
         "42.0"
        ],
        [
         "Candee, Mrs. Edward (Helen Churchill Hungerford)",
         "53.0"
        ],
        [
         "Cardeza, Mr. Thomas Drake Martinez",
         "36.0"
        ],
        [
         "Cardeza, Mrs. James Warburton Martinez (Charlotte Wardle Drake)",
         "58.0"
        ],
        [
         "Carlsson, Mr. Frans Olof",
         "33.0"
        ],
        [
         "Carrau, Mr. Francisco M",
         "28.0"
        ],
        [
         "Carrau, Mr. Jose Pedro",
         "17.0"
        ]
       ],
       "shape": {
        "columns": 1,
        "rows": 1046
       }
      },
      "text/plain": [
       "name\n",
       "Allen, Miss. Elisabeth Walton                      29.0000\n",
       "Allison, Master. Hudson Trevor                      0.9167\n",
       "Allison, Miss. Helen Loraine                        2.0000\n",
       "Allison, Mr. Hudson Joshua Creighton               30.0000\n",
       "Allison, Mrs. Hudson J C (Bessie Waldo Daniels)    25.0000\n",
       "                                                    ...   \n",
       "Youseff, Mr. Gerious                               45.5000\n",
       "Zabour, Miss. Hileni                               14.5000\n",
       "Zakarian, Mr. Mapriededer                          26.5000\n",
       "Zakarian, Mr. Ortin                                27.0000\n",
       "Zimmerman, Mr. Leo                                 29.0000\n",
       "Name: age, Length: 1046, dtype: float64"
      ]
     },
     "execution_count": 176,
     "metadata": {},
     "output_type": "execute_result"
    }
   ],
   "source": [
    "data = data.set_index('name')\n",
    "data[\"age\"]"
   ]
  },
  {
   "cell_type": "code",
   "execution_count": 177,
   "id": "d0b4de32",
   "metadata": {},
   "outputs": [
    {
     "data": {
      "application/vnd.microsoft.datawrangler.viewer.v0+json": {
       "columns": [
        {
         "name": "name",
         "rawType": "object",
         "type": "string"
        },
        {
         "name": "age",
         "rawType": "float64",
         "type": "float"
        }
       ],
       "ref": "fb463bb9-06c0-4266-b20b-cafff5de5843",
       "rows": [
        [
         "Allen, Miss. Elisabeth Walton",
         "29.0"
        ],
        [
         "Allison, Master. Hudson Trevor",
         "0.9167"
        ],
        [
         "Allison, Miss. Helen Loraine",
         "2.0"
        ],
        [
         "Allison, Mr. Hudson Joshua Creighton",
         "30.0"
        ],
        [
         "Allison, Mrs. Hudson J C (Bessie Waldo Daniels)",
         "25.0"
        ],
        [
         "Anderson, Mr. Harry",
         "48.0"
        ],
        [
         "Andrews, Miss. Kornelia Theodosia",
         "63.0"
        ],
        [
         "Andrews, Mr. Thomas Jr",
         "39.0"
        ],
        [
         "Appleton, Mrs. Edward Dale (Charlotte Lamson)",
         "53.0"
        ],
        [
         "Artagaveytia, Mr. Ramon",
         "71.0"
        ]
       ],
       "shape": {
        "columns": 1,
        "rows": 10
       }
      },
      "text/plain": [
       "name\n",
       "Allen, Miss. Elisabeth Walton                      29.0000\n",
       "Allison, Master. Hudson Trevor                      0.9167\n",
       "Allison, Miss. Helen Loraine                        2.0000\n",
       "Allison, Mr. Hudson Joshua Creighton               30.0000\n",
       "Allison, Mrs. Hudson J C (Bessie Waldo Daniels)    25.0000\n",
       "Anderson, Mr. Harry                                48.0000\n",
       "Andrews, Miss. Kornelia Theodosia                  63.0000\n",
       "Andrews, Mr. Thomas Jr                             39.0000\n",
       "Appleton, Mrs. Edward Dale (Charlotte Lamson)      53.0000\n",
       "Artagaveytia, Mr. Ramon                            71.0000\n",
       "Name: age, dtype: float64"
      ]
     },
     "execution_count": 177,
     "metadata": {},
     "output_type": "execute_result"
    }
   ],
   "source": [
    "data[\"age\"][0:10]"
   ]
  },
  {
   "cell_type": "code",
   "execution_count": 178,
   "id": "9db7cec3",
   "metadata": {},
   "outputs": [
    {
     "data": {
      "application/vnd.microsoft.datawrangler.viewer.v0+json": {
       "columns": [
        {
         "name": "name",
         "rawType": "object",
         "type": "string"
        },
        {
         "name": "age",
         "rawType": "bool",
         "type": "boolean"
        }
       ],
       "ref": "6d6c0ae8-9961-463b-a6d6-0b4a17baec1f",
       "rows": [
        [
         "Allen, Miss. Elisabeth Walton",
         "False"
        ],
        [
         "Allison, Master. Hudson Trevor",
         "True"
        ],
        [
         "Allison, Miss. Helen Loraine",
         "True"
        ],
        [
         "Allison, Mr. Hudson Joshua Creighton",
         "False"
        ],
        [
         "Allison, Mrs. Hudson J C (Bessie Waldo Daniels)",
         "False"
        ],
        [
         "Anderson, Mr. Harry",
         "False"
        ],
        [
         "Andrews, Miss. Kornelia Theodosia",
         "False"
        ],
        [
         "Andrews, Mr. Thomas Jr",
         "False"
        ],
        [
         "Appleton, Mrs. Edward Dale (Charlotte Lamson)",
         "False"
        ],
        [
         "Artagaveytia, Mr. Ramon",
         "False"
        ],
        [
         "Astor, Col. John Jacob",
         "False"
        ],
        [
         "Astor, Mrs. John Jacob (Madeleine Talmadge Force)",
         "False"
        ],
        [
         "Aubart, Mme. Leontine Pauline",
         "False"
        ],
        [
         "Barber, Miss. Ellen \"Nellie\"",
         "False"
        ],
        [
         "Barkworth, Mr. Algernon Henry Wilson",
         "False"
        ],
        [
         "Baxter, Mr. Quigg Edmond",
         "False"
        ],
        [
         "Baxter, Mrs. James (Helene DeLaudeniere Chaput)",
         "False"
        ],
        [
         "Bazzani, Miss. Albina",
         "False"
        ],
        [
         "Beattie, Mr. Thomson",
         "False"
        ],
        [
         "Beckwith, Mr. Richard Leonard",
         "False"
        ],
        [
         "Beckwith, Mrs. Richard Leonard (Sallie Monypeny)",
         "False"
        ],
        [
         "Behr, Mr. Karl Howell",
         "False"
        ],
        [
         "Bidois, Miss. Rosalie",
         "False"
        ],
        [
         "Bird, Miss. Ellen",
         "False"
        ],
        [
         "Birnbaum, Mr. Jakob",
         "False"
        ],
        [
         "Bishop, Mr. Dickinson H",
         "False"
        ],
        [
         "Bishop, Mrs. Dickinson H (Helen Walton)",
         "False"
        ],
        [
         "Bissette, Miss. Amelia",
         "False"
        ],
        [
         "Bjornstrom-Steffansson, Mr. Mauritz Hakan",
         "False"
        ],
        [
         "Blackwell, Mr. Stephen Weart",
         "False"
        ],
        [
         "Blank, Mr. Henry",
         "False"
        ],
        [
         "Bonnell, Miss. Caroline",
         "False"
        ],
        [
         "Bonnell, Miss. Elizabeth",
         "False"
        ],
        [
         "Borebank, Mr. John James",
         "False"
        ],
        [
         "Bowen, Miss. Grace Scott",
         "False"
        ],
        [
         "Bowerman, Miss. Elsie Edith",
         "False"
        ],
        [
         "Brady, Mr. John Bertram",
         "False"
        ],
        [
         "Brandeis, Mr. Emil",
         "False"
        ],
        [
         "Brown, Mrs. James Joseph (Margaret Tobin)",
         "False"
        ],
        [
         "Brown, Mrs. John Murray (Caroline Lane Lamson)",
         "False"
        ],
        [
         "Bucknell, Mrs. William Robert (Emma Eliza Ward)",
         "False"
        ],
        [
         "Burns, Miss. Elizabeth Margaret",
         "False"
        ],
        [
         "Butt, Major. Archibald Willingham",
         "False"
        ],
        [
         "Calderhead, Mr. Edward Pennington",
         "False"
        ],
        [
         "Candee, Mrs. Edward (Helen Churchill Hungerford)",
         "False"
        ],
        [
         "Cardeza, Mr. Thomas Drake Martinez",
         "False"
        ],
        [
         "Cardeza, Mrs. James Warburton Martinez (Charlotte Wardle Drake)",
         "False"
        ],
        [
         "Carlsson, Mr. Frans Olof",
         "False"
        ],
        [
         "Carrau, Mr. Francisco M",
         "False"
        ],
        [
         "Carrau, Mr. Jose Pedro",
         "True"
        ]
       ],
       "shape": {
        "columns": 1,
        "rows": 1046
       }
      },
      "text/plain": [
       "name\n",
       "Allen, Miss. Elisabeth Walton                      False\n",
       "Allison, Master. Hudson Trevor                      True\n",
       "Allison, Miss. Helen Loraine                        True\n",
       "Allison, Mr. Hudson Joshua Creighton               False\n",
       "Allison, Mrs. Hudson J C (Bessie Waldo Daniels)    False\n",
       "                                                   ...  \n",
       "Youseff, Mr. Gerious                               False\n",
       "Zabour, Miss. Hileni                                True\n",
       "Zakarian, Mr. Mapriededer                          False\n",
       "Zakarian, Mr. Ortin                                False\n",
       "Zimmerman, Mr. Leo                                 False\n",
       "Name: age, Length: 1046, dtype: bool"
      ]
     },
     "execution_count": 178,
     "metadata": {},
     "output_type": "execute_result"
    }
   ],
   "source": [
    "data[\"age\"]<18"
   ]
  },
  {
   "cell_type": "code",
   "execution_count": 179,
   "id": "3d60179a",
   "metadata": {},
   "outputs": [
    {
     "data": {
      "application/vnd.microsoft.datawrangler.viewer.v0+json": {
       "columns": [
        {
         "name": "name",
         "rawType": "object",
         "type": "string"
        },
        {
         "name": "pclass",
         "rawType": "int64",
         "type": "integer"
        },
        {
         "name": "survived",
         "rawType": "int64",
         "type": "integer"
        },
        {
         "name": "sex",
         "rawType": "object",
         "type": "string"
        },
        {
         "name": "age",
         "rawType": "float64",
         "type": "float"
        }
       ],
       "ref": "04ae796f-ab65-4231-ae5a-8cbaf14023c7",
       "rows": [
        [
         "Allison, Master. Hudson Trevor",
         "1",
         "1",
         "male",
         "0.9167"
        ],
        [
         "Allison, Miss. Helen Loraine",
         "1",
         "0",
         "female",
         "2.0"
        ],
        [
         "Carrau, Mr. Jose Pedro",
         "1",
         "0",
         "male",
         "17.0"
        ],
        [
         "Carter, Master. William Thornton II",
         "1",
         "1",
         "male",
         "11.0"
        ],
        [
         "Carter, Miss. Lucile Polk",
         "1",
         "1",
         "female",
         "14.0"
        ],
        [
         "Dick, Mrs. Albert Adrian (Vera Gillespie)",
         "1",
         "1",
         "female",
         "17.0"
        ],
        [
         "Dodge, Master. Washington",
         "1",
         "1",
         "male",
         "4.0"
        ],
        [
         "Hippach, Miss. Jean Gertrude",
         "1",
         "1",
         "female",
         "16.0"
        ],
        [
         "Lines, Miss. Mary Conover",
         "1",
         "1",
         "female",
         "16.0"
        ],
        [
         "Madill, Miss. Georgette Alexandra",
         "1",
         "1",
         "female",
         "15.0"
        ],
        [
         "Maioni, Miss. Roberta",
         "1",
         "1",
         "female",
         "16.0"
        ],
        [
         "Penasco y Castellana, Mrs. Victor de Satode (Maria Josefa Perez de Soto y Vallejo)",
         "1",
         "1",
         "female",
         "17.0"
        ],
        [
         "Ryerson, Master. John Borie",
         "1",
         "1",
         "male",
         "13.0"
        ],
        [
         "Spedden, Master. Robert Douglas",
         "1",
         "1",
         "male",
         "6.0"
        ],
        [
         "Thayer, Mr. John Borland Jr",
         "1",
         "1",
         "male",
         "17.0"
        ],
        [
         "Becker, Master. Richard F",
         "2",
         "1",
         "male",
         "1.0"
        ],
        [
         "Becker, Miss. Marion Louise",
         "2",
         "1",
         "female",
         "4.0"
        ],
        [
         "Becker, Miss. Ruth Elizabeth",
         "2",
         "1",
         "female",
         "12.0"
        ],
        [
         "Brown, Miss. Edith Eileen",
         "2",
         "1",
         "female",
         "15.0"
        ],
        [
         "Caldwell, Master. Alden Gates",
         "2",
         "1",
         "male",
         "0.8333"
        ],
        [
         "Collyer, Miss. Marjorie \"Lottie\"",
         "2",
         "1",
         "female",
         "8.0"
        ],
        [
         "Davies, Master. John Morgan Jr",
         "2",
         "1",
         "male",
         "8.0"
        ],
        [
         "Deacon, Mr. Percy William",
         "2",
         "0",
         "male",
         "17.0"
        ],
        [
         "Drew, Master. Marshall Brines",
         "2",
         "1",
         "male",
         "8.0"
        ],
        [
         "Gaskell, Mr. Alfred",
         "2",
         "0",
         "male",
         "16.0"
        ],
        [
         "Hamalainen, Master. Viljo",
         "2",
         "1",
         "male",
         "0.6667"
        ],
        [
         "Harper, Miss. Annie Jessie \"Nina\"",
         "2",
         "1",
         "female",
         "6.0"
        ],
        [
         "Hart, Miss. Eva Miriam",
         "2",
         "1",
         "female",
         "7.0"
        ],
        [
         "Ilett, Miss. Bertha",
         "2",
         "1",
         "female",
         "17.0"
        ],
        [
         "Laroche, Miss. Louise",
         "2",
         "1",
         "female",
         "1.0"
        ],
        [
         "Laroche, Miss. Simonne Marie Anne Andree",
         "2",
         "1",
         "female",
         "3.0"
        ],
        [
         "Lehmann, Miss. Bertha",
         "2",
         "1",
         "female",
         "17.0"
        ],
        [
         "Mallet, Master. Andre",
         "2",
         "1",
         "male",
         "1.0"
        ],
        [
         "Mellinger, Miss. Madeleine Violet",
         "2",
         "1",
         "female",
         "13.0"
        ],
        [
         "Mudd, Mr. Thomas Charles",
         "2",
         "0",
         "male",
         "16.0"
        ],
        [
         "Nasser, Mrs. Nicholas (Adele Achem)",
         "2",
         "1",
         "female",
         "14.0"
        ],
        [
         "Navratil, Master. Edmond Roger",
         "2",
         "1",
         "male",
         "2.0"
        ],
        [
         "Navratil, Master. Michel M",
         "2",
         "1",
         "male",
         "3.0"
        ],
        [
         "Quick, Miss. Phyllis May",
         "2",
         "1",
         "female",
         "2.0"
        ],
        [
         "Quick, Miss. Winifred Vera",
         "2",
         "1",
         "female",
         "8.0"
        ],
        [
         "Richards, Master. George Sibley",
         "2",
         "1",
         "male",
         "0.8333"
        ],
        [
         "Richards, Master. William Rowe",
         "2",
         "1",
         "male",
         "3.0"
        ],
        [
         "Sweet, Mr. George Frederick",
         "2",
         "0",
         "male",
         "14.0"
        ],
        [
         "Watt, Miss. Bertha J",
         "2",
         "1",
         "female",
         "12.0"
        ],
        [
         "Wells, Master. Ralph Lester",
         "2",
         "1",
         "male",
         "2.0"
        ],
        [
         "Wells, Miss. Joan",
         "2",
         "1",
         "female",
         "4.0"
        ],
        [
         "West, Miss. Barbara J",
         "2",
         "1",
         "female",
         "0.9167"
        ],
        [
         "West, Miss. Constance Mirium",
         "2",
         "1",
         "female",
         "5.0"
        ],
        [
         "Abbott, Master. Eugene Joseph",
         "3",
         "0",
         "male",
         "13.0"
        ],
        [
         "Abbott, Mr. Rossmore Edward",
         "3",
         "0",
         "male",
         "16.0"
        ]
       ],
       "shape": {
        "columns": 4,
        "rows": 154
       }
      },
      "text/html": [
       "<div>\n",
       "<style scoped>\n",
       "    .dataframe tbody tr th:only-of-type {\n",
       "        vertical-align: middle;\n",
       "    }\n",
       "\n",
       "    .dataframe tbody tr th {\n",
       "        vertical-align: top;\n",
       "    }\n",
       "\n",
       "    .dataframe thead th {\n",
       "        text-align: right;\n",
       "    }\n",
       "</style>\n",
       "<table border=\"1\" class=\"dataframe\">\n",
       "  <thead>\n",
       "    <tr style=\"text-align: right;\">\n",
       "      <th></th>\n",
       "      <th>pclass</th>\n",
       "      <th>survived</th>\n",
       "      <th>sex</th>\n",
       "      <th>age</th>\n",
       "    </tr>\n",
       "    <tr>\n",
       "      <th>name</th>\n",
       "      <th></th>\n",
       "      <th></th>\n",
       "      <th></th>\n",
       "      <th></th>\n",
       "    </tr>\n",
       "  </thead>\n",
       "  <tbody>\n",
       "    <tr>\n",
       "      <th>Allison, Master. Hudson Trevor</th>\n",
       "      <td>1</td>\n",
       "      <td>1</td>\n",
       "      <td>male</td>\n",
       "      <td>0.9167</td>\n",
       "    </tr>\n",
       "    <tr>\n",
       "      <th>Allison, Miss. Helen Loraine</th>\n",
       "      <td>1</td>\n",
       "      <td>0</td>\n",
       "      <td>female</td>\n",
       "      <td>2.0000</td>\n",
       "    </tr>\n",
       "    <tr>\n",
       "      <th>Carrau, Mr. Jose Pedro</th>\n",
       "      <td>1</td>\n",
       "      <td>0</td>\n",
       "      <td>male</td>\n",
       "      <td>17.0000</td>\n",
       "    </tr>\n",
       "    <tr>\n",
       "      <th>Carter, Master. William Thornton II</th>\n",
       "      <td>1</td>\n",
       "      <td>1</td>\n",
       "      <td>male</td>\n",
       "      <td>11.0000</td>\n",
       "    </tr>\n",
       "    <tr>\n",
       "      <th>Carter, Miss. Lucile Polk</th>\n",
       "      <td>1</td>\n",
       "      <td>1</td>\n",
       "      <td>female</td>\n",
       "      <td>14.0000</td>\n",
       "    </tr>\n",
       "    <tr>\n",
       "      <th>...</th>\n",
       "      <td>...</td>\n",
       "      <td>...</td>\n",
       "      <td>...</td>\n",
       "      <td>...</td>\n",
       "    </tr>\n",
       "    <tr>\n",
       "      <th>Van Impe, Miss. Catharina</th>\n",
       "      <td>3</td>\n",
       "      <td>0</td>\n",
       "      <td>female</td>\n",
       "      <td>10.0000</td>\n",
       "    </tr>\n",
       "    <tr>\n",
       "      <th>Vander Planke, Mr. Leo Edmondus</th>\n",
       "      <td>3</td>\n",
       "      <td>0</td>\n",
       "      <td>male</td>\n",
       "      <td>16.0000</td>\n",
       "    </tr>\n",
       "    <tr>\n",
       "      <th>Vestrom, Miss. Hulda Amanda Adolfina</th>\n",
       "      <td>3</td>\n",
       "      <td>0</td>\n",
       "      <td>female</td>\n",
       "      <td>14.0000</td>\n",
       "    </tr>\n",
       "    <tr>\n",
       "      <th>Yasbeck, Mrs. Antoni (Selini Alexander)</th>\n",
       "      <td>3</td>\n",
       "      <td>1</td>\n",
       "      <td>female</td>\n",
       "      <td>15.0000</td>\n",
       "    </tr>\n",
       "    <tr>\n",
       "      <th>Zabour, Miss. Hileni</th>\n",
       "      <td>3</td>\n",
       "      <td>0</td>\n",
       "      <td>female</td>\n",
       "      <td>14.5000</td>\n",
       "    </tr>\n",
       "  </tbody>\n",
       "</table>\n",
       "<p>154 rows × 4 columns</p>\n",
       "</div>"
      ],
      "text/plain": [
       "                                         pclass  survived     sex      age\n",
       "name                                                                      \n",
       "Allison, Master. Hudson Trevor                1         1    male   0.9167\n",
       "Allison, Miss. Helen Loraine                  1         0  female   2.0000\n",
       "Carrau, Mr. Jose Pedro                        1         0    male  17.0000\n",
       "Carter, Master. William Thornton II           1         1    male  11.0000\n",
       "Carter, Miss. Lucile Polk                     1         1  female  14.0000\n",
       "...                                         ...       ...     ...      ...\n",
       "Van Impe, Miss. Catharina                     3         0  female  10.0000\n",
       "Vander Planke, Mr. Leo Edmondus               3         0    male  16.0000\n",
       "Vestrom, Miss. Hulda Amanda Adolfina          3         0  female  14.0000\n",
       "Yasbeck, Mrs. Antoni (Selini Alexander)       3         1  female  15.0000\n",
       "Zabour, Miss. Hileni                          3         0  female  14.5000\n",
       "\n",
       "[154 rows x 4 columns]"
      ]
     },
     "execution_count": 179,
     "metadata": {},
     "output_type": "execute_result"
    }
   ],
   "source": [
    "data[data[\"age\"]<18]"
   ]
  },
  {
   "cell_type": "code",
   "execution_count": 180,
   "id": "92287040",
   "metadata": {},
   "outputs": [
    {
     "data": {
      "application/vnd.microsoft.datawrangler.viewer.v0+json": {
       "columns": [
        {
         "name": "('pclass', 'survived', 'sex', 'age')",
         "rawType": "object",
         "type": "unknown"
        },
        {
         "name": "count",
         "rawType": "int64",
         "type": "integer"
        }
       ],
       "ref": "f6b93539-0658-4874-812e-b06a5be0d2d1",
       "rows": [
        [
         "(3, 0, 'male', 17.0)",
         "9"
        ],
        [
         "(3, 0, 'male', 16.0)",
         "8"
        ],
        [
         "(3, 0, 'female', 9.0)",
         "4"
        ],
        [
         "(3, 0, 'female', 2.0)",
         "4"
        ],
        [
         "(3, 1, 'female', 16.0)",
         "4"
        ],
        [
         "(3, 1, 'female', 4.0)",
         "3"
        ],
        [
         "(3, 1, 'female', 5.0)",
         "3"
        ],
        [
         "(3, 1, 'female', 15.0)",
         "3"
        ],
        [
         "(3, 1, 'female', 1.0)",
         "3"
        ],
        [
         "(3, 0, 'male', 4.0)",
         "3"
        ],
        [
         "(1, 1, 'female', 16.0)",
         "3"
        ],
        [
         "(3, 0, 'male', 2.0)",
         "3"
        ],
        [
         "(3, 1, 'male', 9.0)",
         "3"
        ],
        [
         "(2, 1, 'male', 1.0)",
         "2"
        ],
        [
         "(3, 0, 'male', 6.0)",
         "2"
        ],
        [
         "(2, 1, 'male', 2.0)",
         "2"
        ],
        [
         "(2, 1, 'male', 3.0)",
         "2"
        ],
        [
         "(3, 0, 'male', 10.0)",
         "2"
        ],
        [
         "(2, 1, 'male', 8.0)",
         "2"
        ],
        [
         "(3, 0, 'male', 11.0)",
         "2"
        ],
        [
         "(3, 0, 'female', 3.0)",
         "2"
        ],
        [
         "(3, 0, 'female', 17.0)",
         "2"
        ],
        [
         "(3, 0, 'male', 1.0)",
         "2"
        ],
        [
         "(3, 1, 'female', 0.75)",
         "2"
        ],
        [
         "(3, 0, 'female', 10.0)",
         "2"
        ],
        [
         "(3, 0, 'male', 14.0)",
         "2"
        ],
        [
         "(3, 0, 'male', 13.0)",
         "2"
        ],
        [
         "(2, 1, 'male', 0.8333)",
         "2"
        ],
        [
         "(3, 0, 'male', 7.0)",
         "2"
        ],
        [
         "(2, 1, 'female', 17.0)",
         "2"
        ],
        [
         "(2, 1, 'female', 12.0)",
         "2"
        ],
        [
         "(2, 1, 'female', 8.0)",
         "2"
        ],
        [
         "(1, 1, 'female', 17.0)",
         "2"
        ],
        [
         "(2, 1, 'female', 4.0)",
         "2"
        ],
        [
         "(3, 1, 'female', 17.0)",
         "2"
        ],
        [
         "(2, 0, 'male', 16.0)",
         "2"
        ],
        [
         "(3, 0, 'male', 9.0)",
         "2"
        ],
        [
         "(3, 1, 'male', 3.0)",
         "2"
        ],
        [
         "(3, 1, 'male', 1.0)",
         "1"
        ],
        [
         "(3, 1, 'male', 14.0)",
         "1"
        ],
        [
         "(3, 1, 'male', 12.0)",
         "1"
        ],
        [
         "(3, 1, 'male', 7.0)",
         "1"
        ],
        [
         "(3, 1, 'male', 6.0)",
         "1"
        ],
        [
         "(3, 1, 'male', 4.0)",
         "1"
        ],
        [
         "(3, 0, 'male', 11.5)",
         "1"
        ],
        [
         "(3, 0, 'male', 15.0)",
         "1"
        ],
        [
         "(3, 1, 'male', 0.8333)",
         "1"
        ],
        [
         "(3, 0, 'male', 14.5)",
         "1"
        ],
        [
         "(3, 1, 'male', 0.4167)",
         "1"
        ],
        [
         "(3, 1, 'female', 14.0)",
         "1"
        ]
       ],
       "shape": {
        "columns": 1,
        "rows": 89
       }
      },
      "text/plain": [
       "pclass  survived  sex     age    \n",
       "3       0         male    17.0000    9\n",
       "                          16.0000    8\n",
       "                  female  9.0000     4\n",
       "                          2.0000     4\n",
       "        1         female  16.0000    4\n",
       "                                    ..\n",
       "1       0         male    17.0000    1\n",
       "3       0         female  16.0000    1\n",
       "                  male    0.3333     1\n",
       "                          0.7500     1\n",
       "        1         male    16.0000    1\n",
       "Name: count, Length: 89, dtype: int64"
      ]
     },
     "execution_count": 180,
     "metadata": {},
     "output_type": "execute_result"
    }
   ],
   "source": [
    "data[data[\"age\"]<18].value_counts()"
   ]
  },
  {
   "cell_type": "code",
   "execution_count": 181,
   "id": "90135f3c",
   "metadata": {},
   "outputs": [
    {
     "data": {
      "application/vnd.microsoft.datawrangler.viewer.v0+json": {
       "columns": [
        {
         "name": "('sex', 'pclass')",
         "rawType": "object",
         "type": "unknown"
        },
        {
         "name": "survived",
         "rawType": "float64",
         "type": "float"
        },
        {
         "name": "age",
         "rawType": "float64",
         "type": "float"
        }
       ],
       "ref": "51619bf5-4940-46f5-83d0-e474fb5dea5b",
       "rows": [
        [
         "('female', 1)",
         "0.875",
         "14.125"
        ],
        [
         "('female', 2)",
         "1.0",
         "8.27315"
        ],
        [
         "('female', 3)",
         "0.5434782608695652",
         "8.416667391304347"
        ],
        [
         "('male', 1)",
         "0.8571428571428571",
         "9.845242857142855"
        ],
        [
         "('male', 2)",
         "0.7333333333333333",
         "6.222219999999999"
        ],
        [
         "('male', 3)",
         "0.23333333333333334",
         "9.838888333333333"
        ]
       ],
       "shape": {
        "columns": 2,
        "rows": 6
       }
      },
      "text/html": [
       "<div>\n",
       "<style scoped>\n",
       "    .dataframe tbody tr th:only-of-type {\n",
       "        vertical-align: middle;\n",
       "    }\n",
       "\n",
       "    .dataframe tbody tr th {\n",
       "        vertical-align: top;\n",
       "    }\n",
       "\n",
       "    .dataframe thead th {\n",
       "        text-align: right;\n",
       "    }\n",
       "</style>\n",
       "<table border=\"1\" class=\"dataframe\">\n",
       "  <thead>\n",
       "    <tr style=\"text-align: right;\">\n",
       "      <th></th>\n",
       "      <th></th>\n",
       "      <th>survived</th>\n",
       "      <th>age</th>\n",
       "    </tr>\n",
       "    <tr>\n",
       "      <th>sex</th>\n",
       "      <th>pclass</th>\n",
       "      <th></th>\n",
       "      <th></th>\n",
       "    </tr>\n",
       "  </thead>\n",
       "  <tbody>\n",
       "    <tr>\n",
       "      <th rowspan=\"3\" valign=\"top\">female</th>\n",
       "      <th>1</th>\n",
       "      <td>0.875000</td>\n",
       "      <td>14.125000</td>\n",
       "    </tr>\n",
       "    <tr>\n",
       "      <th>2</th>\n",
       "      <td>1.000000</td>\n",
       "      <td>8.273150</td>\n",
       "    </tr>\n",
       "    <tr>\n",
       "      <th>3</th>\n",
       "      <td>0.543478</td>\n",
       "      <td>8.416667</td>\n",
       "    </tr>\n",
       "    <tr>\n",
       "      <th rowspan=\"3\" valign=\"top\">male</th>\n",
       "      <th>1</th>\n",
       "      <td>0.857143</td>\n",
       "      <td>9.845243</td>\n",
       "    </tr>\n",
       "    <tr>\n",
       "      <th>2</th>\n",
       "      <td>0.733333</td>\n",
       "      <td>6.222220</td>\n",
       "    </tr>\n",
       "    <tr>\n",
       "      <th>3</th>\n",
       "      <td>0.233333</td>\n",
       "      <td>9.838888</td>\n",
       "    </tr>\n",
       "  </tbody>\n",
       "</table>\n",
       "</div>"
      ],
      "text/plain": [
       "               survived        age\n",
       "sex    pclass                     \n",
       "female 1       0.875000  14.125000\n",
       "       2       1.000000   8.273150\n",
       "       3       0.543478   8.416667\n",
       "male   1       0.857143   9.845243\n",
       "       2       0.733333   6.222220\n",
       "       3       0.233333   9.838888"
      ]
     },
     "execution_count": 181,
     "metadata": {},
     "output_type": "execute_result"
    }
   ],
   "source": [
    "data[data[\"age\"]<18].groupby([\"sex\",\"pclass\"]).mean()"
   ]
  },
  {
   "cell_type": "code",
   "execution_count": 182,
   "id": "a1b47433",
   "metadata": {},
   "outputs": [
    {
     "data": {
      "application/vnd.microsoft.datawrangler.viewer.v0+json": {
       "columns": [
        {
         "name": "name",
         "rawType": "object",
         "type": "string"
        },
        {
         "name": "pclass",
         "rawType": "int64",
         "type": "integer"
        },
        {
         "name": "survived",
         "rawType": "int64",
         "type": "integer"
        }
       ],
       "ref": "c7be7a92-bdc4-408e-9e50-cde016ac7b03",
       "rows": [
        [
         "Allen, Miss. Elisabeth Walton",
         "1",
         "1"
        ],
        [
         "Allison, Master. Hudson Trevor",
         "1",
         "1"
        ]
       ],
       "shape": {
        "columns": 2,
        "rows": 2
       }
      },
      "text/html": [
       "<div>\n",
       "<style scoped>\n",
       "    .dataframe tbody tr th:only-of-type {\n",
       "        vertical-align: middle;\n",
       "    }\n",
       "\n",
       "    .dataframe tbody tr th {\n",
       "        vertical-align: top;\n",
       "    }\n",
       "\n",
       "    .dataframe thead th {\n",
       "        text-align: right;\n",
       "    }\n",
       "</style>\n",
       "<table border=\"1\" class=\"dataframe\">\n",
       "  <thead>\n",
       "    <tr style=\"text-align: right;\">\n",
       "      <th></th>\n",
       "      <th>pclass</th>\n",
       "      <th>survived</th>\n",
       "    </tr>\n",
       "    <tr>\n",
       "      <th>name</th>\n",
       "      <th></th>\n",
       "      <th></th>\n",
       "    </tr>\n",
       "  </thead>\n",
       "  <tbody>\n",
       "    <tr>\n",
       "      <th>Allen, Miss. Elisabeth Walton</th>\n",
       "      <td>1</td>\n",
       "      <td>1</td>\n",
       "    </tr>\n",
       "    <tr>\n",
       "      <th>Allison, Master. Hudson Trevor</th>\n",
       "      <td>1</td>\n",
       "      <td>1</td>\n",
       "    </tr>\n",
       "  </tbody>\n",
       "</table>\n",
       "</div>"
      ],
      "text/plain": [
       "                                pclass  survived\n",
       "name                                            \n",
       "Allen, Miss. Elisabeth Walton        1         1\n",
       "Allison, Master. Hudson Trevor       1         1"
      ]
     },
     "execution_count": 182,
     "metadata": {},
     "output_type": "execute_result"
    }
   ],
   "source": [
    "data.iloc[0:2,0:2]"
   ]
  },
  {
   "cell_type": "code",
   "execution_count": 183,
   "id": "c24d79f9",
   "metadata": {},
   "outputs": [
    {
     "data": {
      "application/vnd.microsoft.datawrangler.viewer.v0+json": {
       "columns": [
        {
         "name": "index",
         "rawType": "int64",
         "type": "integer"
        },
        {
         "name": "age",
         "rawType": "float64",
         "type": "float"
        }
       ],
       "ref": "c9f54d3a-361f-41ab-9df0-3e34baac7974",
       "rows": [
        [
         "0",
         "29.0"
        ],
        [
         "1",
         "0.9167"
        ],
        [
         "2",
         "2.0"
        ]
       ],
       "shape": {
        "columns": 1,
        "rows": 3
       }
      },
      "text/plain": [
       "0    29.0000\n",
       "1     0.9167\n",
       "2     2.0000\n",
       "Name: age, dtype: float64"
      ]
     },
     "execution_count": 183,
     "metadata": {},
     "output_type": "execute_result"
    }
   ],
   "source": [
    "data = data.reset_index()\n",
    "\n",
    "data.loc[0:2,'age']"
   ]
  },
  {
   "cell_type": "code",
   "execution_count": 184,
   "id": "4ed161f8",
   "metadata": {},
   "outputs": [
    {
     "data": {
      "application/vnd.microsoft.datawrangler.viewer.v0+json": {
       "columns": [
        {
         "name": "index",
         "rawType": "int64",
         "type": "integer"
        },
        {
         "name": "age",
         "rawType": "float64",
         "type": "float"
        },
        {
         "name": "sex",
         "rawType": "object",
         "type": "string"
        }
       ],
       "ref": "80ff846d-0b6a-44db-8ac3-83be449b0943",
       "rows": [
        [
         "0",
         "29.0",
         "female"
        ],
        [
         "1",
         "0.9167",
         "male"
        ],
        [
         "2",
         "2.0",
         "female"
        ]
       ],
       "shape": {
        "columns": 2,
        "rows": 3
       }
      },
      "text/html": [
       "<div>\n",
       "<style scoped>\n",
       "    .dataframe tbody tr th:only-of-type {\n",
       "        vertical-align: middle;\n",
       "    }\n",
       "\n",
       "    .dataframe tbody tr th {\n",
       "        vertical-align: top;\n",
       "    }\n",
       "\n",
       "    .dataframe thead th {\n",
       "        text-align: right;\n",
       "    }\n",
       "</style>\n",
       "<table border=\"1\" class=\"dataframe\">\n",
       "  <thead>\n",
       "    <tr style=\"text-align: right;\">\n",
       "      <th></th>\n",
       "      <th>age</th>\n",
       "      <th>sex</th>\n",
       "    </tr>\n",
       "  </thead>\n",
       "  <tbody>\n",
       "    <tr>\n",
       "      <th>0</th>\n",
       "      <td>29.0000</td>\n",
       "      <td>female</td>\n",
       "    </tr>\n",
       "    <tr>\n",
       "      <th>1</th>\n",
       "      <td>0.9167</td>\n",
       "      <td>male</td>\n",
       "    </tr>\n",
       "    <tr>\n",
       "      <th>2</th>\n",
       "      <td>2.0000</td>\n",
       "      <td>female</td>\n",
       "    </tr>\n",
       "  </tbody>\n",
       "</table>\n",
       "</div>"
      ],
      "text/plain": [
       "       age     sex\n",
       "0  29.0000  female\n",
       "1   0.9167    male\n",
       "2   2.0000  female"
      ]
     },
     "execution_count": 184,
     "metadata": {},
     "output_type": "execute_result"
    }
   ],
   "source": [
    "data.loc[0:2,['age','sex']]"
   ]
  },
  {
   "cell_type": "code",
   "execution_count": 185,
   "id": "2df64662",
   "metadata": {},
   "outputs": [
    {
     "data": {
      "application/vnd.microsoft.datawrangler.viewer.v0+json": {
       "columns": [
        {
         "name": "index",
         "rawType": "int64",
         "type": "integer"
        },
        {
         "name": "age",
         "rawType": "object",
         "type": "string"
        }
       ],
       "ref": "e59eb2f6-6426-4664-bc28-c38905778628",
       "rows": [
        [
         "0",
         "20 - 3O ans"
        ],
        [
         "1",
         "< 20 ans"
        ],
        [
         "2",
         "< 20 ans"
        ],
        [
         "3",
         "30 - 40 ans"
        ],
        [
         "4",
         "20 - 3O ans"
        ],
        [
         "5",
         "> 40 ans"
        ],
        [
         "6",
         "> 40 ans"
        ],
        [
         "7",
         "30 - 40 ans"
        ],
        [
         "8",
         "> 40 ans"
        ],
        [
         "9",
         "> 40 ans"
        ],
        [
         "10",
         "> 40 ans"
        ],
        [
         "11",
         "< 20 ans"
        ],
        [
         "12",
         "20 - 3O ans"
        ],
        [
         "13",
         "20 - 3O ans"
        ],
        [
         "14",
         "> 40 ans"
        ],
        [
         "15",
         "20 - 3O ans"
        ],
        [
         "16",
         "> 40 ans"
        ],
        [
         "17",
         "30 - 40 ans"
        ],
        [
         "18",
         "30 - 40 ans"
        ],
        [
         "19",
         "30 - 40 ans"
        ],
        [
         "20",
         "> 40 ans"
        ],
        [
         "21",
         "20 - 3O ans"
        ],
        [
         "22",
         "> 40 ans"
        ],
        [
         "23",
         "20 - 3O ans"
        ],
        [
         "24",
         "20 - 3O ans"
        ],
        [
         "25",
         "20 - 3O ans"
        ],
        [
         "26",
         "< 20 ans"
        ],
        [
         "27",
         "30 - 40 ans"
        ],
        [
         "28",
         "20 - 3O ans"
        ],
        [
         "29",
         "> 40 ans"
        ],
        [
         "30",
         "> 40 ans"
        ],
        [
         "31",
         "30 - 40 ans"
        ],
        [
         "32",
         "> 40 ans"
        ],
        [
         "33",
         "> 40 ans"
        ],
        [
         "34",
         "> 40 ans"
        ],
        [
         "35",
         "20 - 3O ans"
        ],
        [
         "36",
         "> 40 ans"
        ],
        [
         "37",
         "> 40 ans"
        ],
        [
         "38",
         "> 40 ans"
        ],
        [
         "39",
         "> 40 ans"
        ],
        [
         "40",
         "> 40 ans"
        ],
        [
         "41",
         "> 40 ans"
        ],
        [
         "42",
         "> 40 ans"
        ],
        [
         "43",
         "> 40 ans"
        ],
        [
         "44",
         "> 40 ans"
        ],
        [
         "45",
         "30 - 40 ans"
        ],
        [
         "46",
         "> 40 ans"
        ],
        [
         "47",
         "30 - 40 ans"
        ],
        [
         "48",
         "20 - 3O ans"
        ],
        [
         "49",
         "< 20 ans"
        ]
       ],
       "shape": {
        "columns": 1,
        "rows": 1046
       }
      },
      "text/plain": [
       "0       20 - 3O ans\n",
       "1          < 20 ans\n",
       "2          < 20 ans\n",
       "3       30 - 40 ans\n",
       "4       20 - 3O ans\n",
       "           ...     \n",
       "1041       > 40 ans\n",
       "1042       < 20 ans\n",
       "1043    20 - 3O ans\n",
       "1044    20 - 3O ans\n",
       "1045    20 - 3O ans\n",
       "Name: age, Length: 1046, dtype: object"
      ]
     },
     "execution_count": 185,
     "metadata": {},
     "output_type": "execute_result"
    }
   ],
   "source": [
    "def category_ages(age):\n",
    "    if age < 20:\n",
    "        return \"< 20 ans\"\n",
    "    elif (age >= 20) & (age < 30):\n",
    "        return \"20 - 3O ans\"\n",
    "    elif (age >= 30) & (age < 40):\n",
    "        return \"30 - 40 ans\"\n",
    "    else:\n",
    "        return \"> 40 ans\"\n",
    "    \n",
    "data[\"age\"].map(category_ages)"
   ]
  },
  {
   "cell_type": "code",
   "execution_count": 186,
   "id": "576735d5",
   "metadata": {},
   "outputs": [
    {
     "data": {
      "application/vnd.microsoft.datawrangler.viewer.v0+json": {
       "columns": [
        {
         "name": "index",
         "rawType": "int64",
         "type": "integer"
        },
        {
         "name": "0",
         "rawType": "int8",
         "type": "integer"
        }
       ],
       "ref": "512187be-5ebc-4c48-b23f-1e2b39caf3ab",
       "rows": [
        [
         "0",
         "0"
        ],
        [
         "1",
         "1"
        ],
        [
         "2",
         "0"
        ],
        [
         "3",
         "1"
        ],
        [
         "4",
         "0"
        ],
        [
         "5",
         "1"
        ],
        [
         "6",
         "0"
        ],
        [
         "7",
         "1"
        ],
        [
         "8",
         "0"
        ],
        [
         "9",
         "1"
        ],
        [
         "10",
         "1"
        ],
        [
         "11",
         "0"
        ],
        [
         "12",
         "0"
        ],
        [
         "13",
         "0"
        ],
        [
         "14",
         "1"
        ],
        [
         "15",
         "1"
        ],
        [
         "16",
         "0"
        ],
        [
         "17",
         "0"
        ],
        [
         "18",
         "1"
        ],
        [
         "19",
         "1"
        ],
        [
         "20",
         "0"
        ],
        [
         "21",
         "1"
        ],
        [
         "22",
         "0"
        ],
        [
         "23",
         "0"
        ],
        [
         "24",
         "1"
        ],
        [
         "25",
         "1"
        ],
        [
         "26",
         "0"
        ],
        [
         "27",
         "0"
        ],
        [
         "28",
         "1"
        ],
        [
         "29",
         "1"
        ],
        [
         "30",
         "1"
        ],
        [
         "31",
         "0"
        ],
        [
         "32",
         "0"
        ],
        [
         "33",
         "1"
        ],
        [
         "34",
         "0"
        ],
        [
         "35",
         "0"
        ],
        [
         "36",
         "1"
        ],
        [
         "37",
         "1"
        ],
        [
         "38",
         "0"
        ],
        [
         "39",
         "0"
        ],
        [
         "40",
         "0"
        ],
        [
         "41",
         "0"
        ],
        [
         "42",
         "1"
        ],
        [
         "43",
         "1"
        ],
        [
         "44",
         "0"
        ],
        [
         "45",
         "1"
        ],
        [
         "46",
         "0"
        ],
        [
         "47",
         "1"
        ],
        [
         "48",
         "1"
        ],
        [
         "49",
         "1"
        ]
       ],
       "shape": {
        "columns": 1,
        "rows": 1046
       }
      },
      "text/plain": [
       "0       0\n",
       "1       1\n",
       "2       0\n",
       "3       1\n",
       "4       0\n",
       "       ..\n",
       "1041    1\n",
       "1042    0\n",
       "1043    1\n",
       "1044    1\n",
       "1045    1\n",
       "Length: 1046, dtype: int8"
      ]
     },
     "execution_count": 186,
     "metadata": {},
     "output_type": "execute_result"
    }
   ],
   "source": [
    "#data[\"sex\"].map({\"male\": 0, \"female\":1})\n",
    "#data[\"sex\"].replace([\"male\",\"female\"],[0,1])\n",
    "data[\"sex\"].astype(\"category\").cat.codes"
   ]
  }
 ],
 "metadata": {
  "kernelspec": {
   "display_name": "base",
   "language": "python",
   "name": "python3"
  },
  "language_info": {
   "codemirror_mode": {
    "name": "ipython",
    "version": 3
   },
   "file_extension": ".py",
   "mimetype": "text/x-python",
   "name": "python",
   "nbconvert_exporter": "python",
   "pygments_lexer": "ipython3",
   "version": "3.12.7"
  }
 },
 "nbformat": 4,
 "nbformat_minor": 5
}
