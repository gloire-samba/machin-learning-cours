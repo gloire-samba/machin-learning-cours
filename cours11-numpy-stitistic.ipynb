{
 "cells": [
  {
   "cell_type": "code",
   "execution_count": 2,
   "id": "4180d33b",
   "metadata": {},
   "outputs": [],
   "source": [
    "import numpy as np"
   ]
  },
  {
   "cell_type": "code",
   "execution_count": 3,
   "id": "7df82e61",
   "metadata": {},
   "outputs": [
    {
     "data": {
      "text/plain": [
       "array([[6, 1, 4],\n",
       "       [4, 8, 4]])"
      ]
     },
     "execution_count": 3,
     "metadata": {},
     "output_type": "execute_result"
    }
   ],
   "source": [
    "np.random.seed(0)\n",
    "A = np.random.randint(1,10,[2,3])\n",
    "A"
   ]
  },
  {
   "cell_type": "code",
   "execution_count": 4,
   "id": "88acbb87",
   "metadata": {},
   "outputs": [
    {
     "data": {
      "text/plain": [
       "27"
      ]
     },
     "execution_count": 4,
     "metadata": {},
     "output_type": "execute_result"
    }
   ],
   "source": [
    "A.sum()"
   ]
  },
  {
   "cell_type": "code",
   "execution_count": 5,
   "id": "68391726",
   "metadata": {},
   "outputs": [
    {
     "data": {
      "text/plain": [
       "array([10,  9,  8])"
      ]
     },
     "execution_count": 5,
     "metadata": {},
     "output_type": "execute_result"
    }
   ],
   "source": [
    "A.sum(axis=0)  # somme par colonne"
   ]
  },
  {
   "cell_type": "code",
   "execution_count": 6,
   "id": "622e2b03",
   "metadata": {},
   "outputs": [
    {
     "data": {
      "text/plain": [
       "array([11, 16])"
      ]
     },
     "execution_count": 6,
     "metadata": {},
     "output_type": "execute_result"
    }
   ],
   "source": [
    "A.sum(axis =1)  # somme par ligne"
   ]
  },
  {
   "cell_type": "code",
   "execution_count": 7,
   "id": "51e09d9c",
   "metadata": {},
   "outputs": [
    {
     "data": {
      "text/plain": [
       "array([ 6,  7, 11, 15, 23, 27])"
      ]
     },
     "execution_count": 7,
     "metadata": {},
     "output_type": "execute_result"
    }
   ],
   "source": [
    "A.cumsum()  # somme cumulée"
   ]
  },
  {
   "cell_type": "code",
   "execution_count": 8,
   "id": "af6c987e",
   "metadata": {},
   "outputs": [
    {
     "data": {
      "text/plain": [
       "3072"
      ]
     },
     "execution_count": 8,
     "metadata": {},
     "output_type": "execute_result"
    }
   ],
   "source": [
    "A.prod()  # produit des éléments"
   ]
  },
  {
   "cell_type": "code",
   "execution_count": 9,
   "id": "455a3fdd",
   "metadata": {},
   "outputs": [
    {
     "data": {
      "text/plain": [
       "1"
      ]
     },
     "execution_count": 9,
     "metadata": {},
     "output_type": "execute_result"
    }
   ],
   "source": [
    "A.min()  # minimum des éléments"
   ]
  },
  {
   "cell_type": "code",
   "execution_count": 10,
   "id": "6da12ca9",
   "metadata": {},
   "outputs": [
    {
     "data": {
      "text/plain": [
       "array([4, 1, 4])"
      ]
     },
     "execution_count": 10,
     "metadata": {},
     "output_type": "execute_result"
    }
   ],
   "source": [
    "A.min(axis=0)  # minimum par colonne"
   ]
  },
  {
   "cell_type": "code",
   "execution_count": 11,
   "id": "16ec687d",
   "metadata": {},
   "outputs": [
    {
     "data": {
      "text/plain": [
       "1"
      ]
     },
     "execution_count": 11,
     "metadata": {},
     "output_type": "execute_result"
    }
   ],
   "source": [
    "A.argmin()  # indice du minimum des éléments"
   ]
  },
  {
   "cell_type": "code",
   "execution_count": 12,
   "id": "790f84db",
   "metadata": {},
   "outputs": [
    {
     "data": {
      "text/plain": [
       "array([1, 0, 0])"
      ]
     },
     "execution_count": 12,
     "metadata": {},
     "output_type": "execute_result"
    }
   ],
   "source": [
    "A.argmin(axis = 0)"
   ]
  },
  {
   "cell_type": "code",
   "execution_count": 13,
   "id": "7274eb24",
   "metadata": {},
   "outputs": [
    {
     "data": {
      "text/plain": [
       "array([[1, 4, 6],\n",
       "       [4, 4, 8]])"
      ]
     },
     "execution_count": 13,
     "metadata": {},
     "output_type": "execute_result"
    }
   ],
   "source": [
    "A.sort()  # tri des éléments\n",
    "A"
   ]
  },
  {
   "cell_type": "code",
   "execution_count": 14,
   "id": "ee7d40c0",
   "metadata": {},
   "outputs": [
    {
     "data": {
      "text/plain": [
       "array([[1, 4, 6],\n",
       "       [4, 4, 8]])"
      ]
     },
     "execution_count": 14,
     "metadata": {},
     "output_type": "execute_result"
    }
   ],
   "source": [
    "A.argsort()  # indices du tri des éléments\n",
    "A"
   ]
  },
  {
   "cell_type": "code",
   "execution_count": 15,
   "id": "51bbe871",
   "metadata": {},
   "outputs": [
    {
     "data": {
      "text/plain": [
       "array([[2.71828183e+00, 5.45981500e+01, 4.03428793e+02],\n",
       "       [5.45981500e+01, 5.45981500e+01, 2.98095799e+03]])"
      ]
     },
     "execution_count": 15,
     "metadata": {},
     "output_type": "execute_result"
    }
   ],
   "source": [
    "np.exp(A)  # exponentielle des éléments"
   ]
  },
  {
   "cell_type": "code",
   "execution_count": 16,
   "id": "51cfa6db",
   "metadata": {},
   "outputs": [
    {
     "data": {
      "text/plain": [
       "array([[0.        , 1.38629436, 1.79175947],\n",
       "       [1.38629436, 1.38629436, 2.07944154]])"
      ]
     },
     "execution_count": 16,
     "metadata": {},
     "output_type": "execute_result"
    }
   ],
   "source": [
    "np.log(A)  # logarithme des éléments"
   ]
  },
  {
   "cell_type": "code",
   "execution_count": 17,
   "id": "3242fd91",
   "metadata": {},
   "outputs": [
    {
     "data": {
      "text/plain": [
       "array([[ 0.54030231, -0.65364362,  0.96017029],\n",
       "       [-0.65364362, -0.65364362, -0.14550003]])"
      ]
     },
     "execution_count": 17,
     "metadata": {},
     "output_type": "execute_result"
    }
   ],
   "source": [
    "np.cos(A)  # cosinus des éléments"
   ]
  },
  {
   "cell_type": "code",
   "execution_count": 18,
   "id": "ce9387eb",
   "metadata": {},
   "outputs": [
    {
     "data": {
      "text/plain": [
       "array([[1.17520119e+00, 2.72899172e+01, 2.01713157e+02],\n",
       "       [2.72899172e+01, 2.72899172e+01, 1.49047883e+03]])"
      ]
     },
     "execution_count": 18,
     "metadata": {},
     "output_type": "execute_result"
    }
   ],
   "source": [
    "np.sinh(A)  # sinus hyperbolique des éléments"
   ]
  },
  {
   "cell_type": "code",
   "execution_count": 19,
   "id": "b8b5b867",
   "metadata": {},
   "outputs": [
    {
     "data": {
      "text/plain": [
       "array([[1, 4, 6],\n",
       "       [4, 4, 8]])"
      ]
     },
     "execution_count": 19,
     "metadata": {},
     "output_type": "execute_result"
    }
   ],
   "source": [
    "A"
   ]
  },
  {
   "cell_type": "code",
   "execution_count": 20,
   "id": "882a7efd",
   "metadata": {},
   "outputs": [
    {
     "data": {
      "text/plain": [
       "1"
      ]
     },
     "execution_count": 20,
     "metadata": {},
     "output_type": "execute_result"
    }
   ],
   "source": [
    "A.min()  # minimum des éléments"
   ]
  },
  {
   "cell_type": "code",
   "execution_count": 21,
   "id": "a44397fc",
   "metadata": {},
   "outputs": [
    {
     "data": {
      "text/plain": [
       "2.140872096444188"
      ]
     },
     "execution_count": 21,
     "metadata": {},
     "output_type": "execute_result"
    }
   ],
   "source": [
    "A.std()  # écart-type des éléments"
   ]
  },
  {
   "cell_type": "code",
   "execution_count": 22,
   "id": "d1c6b01e",
   "metadata": {},
   "outputs": [
    {
     "data": {
      "text/plain": [
       "4.583333333333333"
      ]
     },
     "execution_count": 22,
     "metadata": {},
     "output_type": "execute_result"
    }
   ],
   "source": [
    "A.var()  # variance des éléments"
   ]
  },
  {
   "cell_type": "code",
   "execution_count": 23,
   "id": "42ba214a",
   "metadata": {},
   "outputs": [
    {
     "data": {
      "text/plain": [
       "array([[1.        , 0.80295507],\n",
       "       [0.80295507, 1.        ]])"
      ]
     },
     "execution_count": 23,
     "metadata": {},
     "output_type": "execute_result"
    }
   ],
   "source": [
    "np.corrcoef(A)"
   ]
  },
  {
   "cell_type": "code",
   "execution_count": 24,
   "id": "b37cc112",
   "metadata": {},
   "outputs": [
    {
     "data": {
      "text/plain": [
       "0.8029550685469662"
      ]
     },
     "execution_count": 24,
     "metadata": {},
     "output_type": "execute_result"
    }
   ],
   "source": [
    "np.corrcoef(A)[0,1]"
   ]
  },
  {
   "cell_type": "code",
   "execution_count": 25,
   "id": "d9c175b9",
   "metadata": {},
   "outputs": [
    {
     "data": {
      "text/plain": [
       "(array([1, 4, 6, 8]), array([1, 3, 1, 1]))"
      ]
     },
     "execution_count": 25,
     "metadata": {},
     "output_type": "execute_result"
    }
   ],
   "source": [
    "np.unique(A, return_counts=True)  # valeurs uniques et leurs nombres d'occurrences"
   ]
  },
  {
   "cell_type": "code",
   "execution_count": 26,
   "id": "98e1160a",
   "metadata": {},
   "outputs": [
    {
     "data": {
      "text/plain": [
       "array([[6, 1, 4, 4, 8],\n",
       "       [4, 6, 3, 5, 8],\n",
       "       [7, 9, 9, 2, 7],\n",
       "       [8, 8, 9, 2, 6],\n",
       "       [9, 5, 4, 1, 4]])"
      ]
     },
     "execution_count": 26,
     "metadata": {},
     "output_type": "execute_result"
    }
   ],
   "source": [
    "np.random.seed(0)\n",
    "A = np.random.randint(1,10,[5,5])\n",
    "A"
   ]
  },
  {
   "cell_type": "code",
   "execution_count": 27,
   "id": "75a43899",
   "metadata": {},
   "outputs": [
    {
     "data": {
      "text/plain": [
       "(array([1, 2, 3, 4, 5, 6, 7, 8, 9]), array([2, 2, 1, 5, 2, 3, 2, 4, 4]))"
      ]
     },
     "execution_count": 27,
     "metadata": {},
     "output_type": "execute_result"
    }
   ],
   "source": [
    "np.unique(A, return_counts=True) "
   ]
  },
  {
   "cell_type": "code",
   "execution_count": 28,
   "id": "ea8694b7",
   "metadata": {},
   "outputs": [
    {
     "data": {
      "text/plain": [
       "array([1, 2, 3, 4, 5, 6, 7, 8, 9])"
      ]
     },
     "execution_count": 28,
     "metadata": {},
     "output_type": "execute_result"
    }
   ],
   "source": [
    "values, counts = np.unique(A, return_counts=True)\n",
    "values"
   ]
  },
  {
   "cell_type": "code",
   "execution_count": 29,
   "id": "fc8309e1",
   "metadata": {},
   "outputs": [
    {
     "data": {
      "text/plain": [
       "array([2, 2, 1, 5, 2, 3, 2, 4, 4])"
      ]
     },
     "execution_count": 29,
     "metadata": {},
     "output_type": "execute_result"
    }
   ],
   "source": [
    "counts"
   ]
  },
  {
   "cell_type": "code",
   "execution_count": 30,
   "id": "276d372d",
   "metadata": {},
   "outputs": [
    {
     "data": {
      "text/plain": [
       "array([2, 0, 1, 4, 6, 5, 7, 8, 3])"
      ]
     },
     "execution_count": 30,
     "metadata": {},
     "output_type": "execute_result"
    }
   ],
   "source": [
    "counts.argsort()"
   ]
  },
  {
   "cell_type": "code",
   "execution_count": 31,
   "id": "7e33313b",
   "metadata": {},
   "outputs": [
    {
     "data": {
      "text/plain": [
       "array([3, 1, 2, 5, 7, 6, 8, 9, 4])"
      ]
     },
     "execution_count": 31,
     "metadata": {},
     "output_type": "execute_result"
    }
   ],
   "source": [
    "values[counts.argsort()]"
   ]
  },
  {
   "cell_type": "code",
   "execution_count": 32,
   "id": "08214e8b",
   "metadata": {},
   "outputs": [
    {
     "name": "stdout",
     "output_type": "stream",
     "text": [
      "La valeur 3 apparaît 1 fois.\n",
      "La valeur 1 apparaît 2 fois.\n",
      "La valeur 2 apparaît 2 fois.\n",
      "La valeur 5 apparaît 2 fois.\n",
      "La valeur 7 apparaît 2 fois.\n",
      "La valeur 6 apparaît 3 fois.\n",
      "La valeur 8 apparaît 4 fois.\n",
      "La valeur 9 apparaît 4 fois.\n",
      "La valeur 4 apparaît 5 fois.\n"
     ]
    }
   ],
   "source": [
    "for i,j in zip(values[counts.argsort()], counts[counts.argsort()]):\n",
    "    print(f\"La valeur {i} apparaît {j} fois.\")"
   ]
  },
  {
   "cell_type": "code",
   "execution_count": 33,
   "id": "5a7e9ea5",
   "metadata": {},
   "outputs": [
    {
     "data": {
      "text/plain": [
       "array([[-0.07770457,  1.08963016,         nan,  1.41866711,  1.16827314],\n",
       "       [ 0.94718595,  1.08548703,  2.38222445, -0.40602374,  0.26644534],\n",
       "       [-1.35571372, -0.11410253, -0.84423086,  0.70564081, -0.39878617],\n",
       "       [-0.82719653, -0.4157447 , -0.52451219,  0.81310127, -0.22925063],\n",
       "       [ 2.16171737, -0.95693143,  0.06731083,         nan, -0.45688133]])"
      ]
     },
     "execution_count": 33,
     "metadata": {},
     "output_type": "execute_result"
    }
   ],
   "source": [
    "A = np.random.randn(5,5)\n",
    "A[0,2] = np.nan\n",
    "A[4,3] = np.nan\n",
    "A"
   ]
  },
  {
   "cell_type": "code",
   "execution_count": 34,
   "id": "ac42382f",
   "metadata": {},
   "outputs": [
    {
     "data": {
      "text/plain": [
       "0.23906978515702657"
      ]
     },
     "execution_count": 34,
     "metadata": {},
     "output_type": "execute_result"
    }
   ],
   "source": [
    "np.nanmean(A)  # moyenne en ignorant les NaN"
   ]
  },
  {
   "cell_type": "code",
   "execution_count": 35,
   "id": "93d8c427",
   "metadata": {},
   "outputs": [
    {
     "data": {
      "text/plain": [
       "0.9613530732672138"
      ]
     },
     "execution_count": 35,
     "metadata": {},
     "output_type": "execute_result"
    }
   ],
   "source": [
    "np.nanvar(A)  # variance en ignorant les NaN"
   ]
  },
  {
   "cell_type": "code",
   "execution_count": 36,
   "id": "4df59b22",
   "metadata": {},
   "outputs": [
    {
     "data": {
      "text/plain": [
       "0.9804861412927843"
      ]
     },
     "execution_count": 36,
     "metadata": {},
     "output_type": "execute_result"
    }
   ],
   "source": [
    "np.nanstd(A)  # écart-type en ignorant les NaN"
   ]
  },
  {
   "cell_type": "code",
   "execution_count": 37,
   "id": "53ea31e7",
   "metadata": {},
   "outputs": [
    {
     "data": {
      "text/plain": [
       "array([[False, False,  True, False, False],\n",
       "       [False, False, False, False, False],\n",
       "       [False, False, False, False, False],\n",
       "       [False, False, False, False, False],\n",
       "       [False, False, False,  True, False]])"
      ]
     },
     "execution_count": 37,
     "metadata": {},
     "output_type": "execute_result"
    }
   ],
   "source": [
    "np.isnan(A)  # tableau booléen indiquant les NaN"
   ]
  },
  {
   "cell_type": "code",
   "execution_count": 38,
   "id": "2dd9d741",
   "metadata": {},
   "outputs": [
    {
     "data": {
      "text/plain": [
       "2"
      ]
     },
     "execution_count": 38,
     "metadata": {},
     "output_type": "execute_result"
    }
   ],
   "source": [
    "np.isnan(A).sum()  # nombre de NaN dans A"
   ]
  },
  {
   "cell_type": "code",
   "execution_count": 39,
   "id": "9131ecda",
   "metadata": {},
   "outputs": [
    {
     "data": {
      "text/plain": [
       "0.08"
      ]
     },
     "execution_count": 39,
     "metadata": {},
     "output_type": "execute_result"
    }
   ],
   "source": [
    "np.isnan(A).sum() / A.size  # proportion de NaN dans A"
   ]
  },
  {
   "cell_type": "code",
   "execution_count": 40,
   "id": "462d6d96",
   "metadata": {},
   "outputs": [
    {
     "data": {
      "text/plain": [
       "array([[-0.07770457,  1.08963016,  0.        ,  1.41866711,  1.16827314],\n",
       "       [ 0.94718595,  1.08548703,  2.38222445, -0.40602374,  0.26644534],\n",
       "       [-1.35571372, -0.11410253, -0.84423086,  0.70564081, -0.39878617],\n",
       "       [-0.82719653, -0.4157447 , -0.52451219,  0.81310127, -0.22925063],\n",
       "       [ 2.16171737, -0.95693143,  0.06731083,  0.        , -0.45688133]])"
      ]
     },
     "execution_count": 40,
     "metadata": {},
     "output_type": "execute_result"
    }
   ],
   "source": [
    "A[np.isnan(A)] = 0  # remplacer les NaN par 0\n",
    "A"
   ]
  },
  {
   "cell_type": "markdown",
   "id": "67a1cd1f",
   "metadata": {},
   "source": [
    "# Bonus Algebre linéaire"
   ]
  },
  {
   "cell_type": "code",
   "execution_count": 41,
   "id": "4d5047b4",
   "metadata": {},
   "outputs": [
    {
     "data": {
      "text/plain": [
       "array([[1., 1.],\n",
       "       [1., 1.],\n",
       "       [1., 1.]])"
      ]
     },
     "execution_count": 41,
     "metadata": {},
     "output_type": "execute_result"
    }
   ],
   "source": [
    "A = np.ones((3,2))\n",
    "B = np.ones((2,3))\n",
    "A"
   ]
  },
  {
   "cell_type": "code",
   "execution_count": 42,
   "id": "af54e0d8",
   "metadata": {},
   "outputs": [
    {
     "data": {
      "text/plain": [
       "array([[1., 1., 1.],\n",
       "       [1., 1., 1.]])"
      ]
     },
     "execution_count": 42,
     "metadata": {},
     "output_type": "execute_result"
    }
   ],
   "source": [
    "B"
   ]
  },
  {
   "cell_type": "code",
   "execution_count": 43,
   "id": "efae5c27",
   "metadata": {},
   "outputs": [
    {
     "data": {
      "text/plain": [
       "array([[1., 1., 1.],\n",
       "       [1., 1., 1.]])"
      ]
     },
     "execution_count": 43,
     "metadata": {},
     "output_type": "execute_result"
    }
   ],
   "source": [
    "A.T"
   ]
  },
  {
   "cell_type": "code",
   "execution_count": 44,
   "id": "759c011f",
   "metadata": {},
   "outputs": [
    {
     "data": {
      "text/plain": [
       "(2, 3)"
      ]
     },
     "execution_count": 44,
     "metadata": {},
     "output_type": "execute_result"
    }
   ],
   "source": [
    "A.T.shape"
   ]
  },
  {
   "cell_type": "code",
   "execution_count": 45,
   "id": "3bd6fb65",
   "metadata": {},
   "outputs": [
    {
     "data": {
      "text/plain": [
       "array([[2., 2., 2.],\n",
       "       [2., 2., 2.],\n",
       "       [2., 2., 2.]])"
      ]
     },
     "execution_count": 45,
     "metadata": {},
     "output_type": "execute_result"
    }
   ],
   "source": [
    "A.dot(B)  # produit matriciel de A et B"
   ]
  },
  {
   "cell_type": "code",
   "execution_count": 46,
   "id": "93fdc566",
   "metadata": {},
   "outputs": [
    {
     "data": {
      "text/plain": [
       "array([[3., 3.],\n",
       "       [3., 3.]])"
      ]
     },
     "execution_count": 46,
     "metadata": {},
     "output_type": "execute_result"
    }
   ],
   "source": [
    "B.dot(A)  # produit matriciel de B et A"
   ]
  },
  {
   "cell_type": "code",
   "execution_count": 47,
   "id": "7b5c5687",
   "metadata": {},
   "outputs": [
    {
     "data": {
      "text/plain": [
       "array([[0, 3, 5, 9, 4],\n",
       "       [4, 6, 4, 4, 3],\n",
       "       [4, 4, 8, 4, 3],\n",
       "       [7, 5, 5, 0, 1],\n",
       "       [5, 9, 3, 0, 5]])"
      ]
     },
     "execution_count": 47,
     "metadata": {},
     "output_type": "execute_result"
    }
   ],
   "source": [
    "A = np.random.randint(0,10,[5,5])\n",
    "A"
   ]
  },
  {
   "cell_type": "code",
   "execution_count": 48,
   "id": "6ea2c7ee",
   "metadata": {},
   "outputs": [
    {
     "data": {
      "text/plain": [
       "-528.0"
      ]
     },
     "execution_count": 48,
     "metadata": {},
     "output_type": "execute_result"
    }
   ],
   "source": [
    "np.linalg.det(A)  # déterminant de A"
   ]
  },
  {
   "cell_type": "code",
   "execution_count": 49,
   "id": "98a78c37",
   "metadata": {},
   "outputs": [
    {
     "data": {
      "text/plain": [
       "array([[ 0.81818182, -1.20075758, -0.64015152,  1.01893939,  0.24621212],\n",
       "       [-0.90909091,  1.53787879,  0.50757576, -0.9469697 , -0.31060606],\n",
       "       [-0.45454545,  0.51893939,  0.50378788, -0.47348485, -0.15530303],\n",
       "       [ 0.18181818,  0.03409091, -0.19318182,  0.14772727, -0.07954545],\n",
       "       [ 1.09090909, -1.87878788, -0.57575758,  0.96969697,  0.60606061]])"
      ]
     },
     "execution_count": 49,
     "metadata": {},
     "output_type": "execute_result"
    }
   ],
   "source": [
    "np.linalg.inv(A)  # inverse de A"
   ]
  },
  {
   "cell_type": "code",
   "execution_count": 50,
   "id": "24702294",
   "metadata": {},
   "outputs": [
    {
     "data": {
      "text/plain": [
       "array([[ 0.81818182, -1.20075758, -0.64015152,  1.01893939,  0.24621212],\n",
       "       [-0.90909091,  1.53787879,  0.50757576, -0.9469697 , -0.31060606],\n",
       "       [-0.45454545,  0.51893939,  0.50378788, -0.47348485, -0.15530303],\n",
       "       [ 0.18181818,  0.03409091, -0.19318182,  0.14772727, -0.07954545],\n",
       "       [ 1.09090909, -1.87878788, -0.57575758,  0.96969697,  0.60606061]])"
      ]
     },
     "execution_count": 50,
     "metadata": {},
     "output_type": "execute_result"
    }
   ],
   "source": [
    "np.linalg.pinv(A)  # pseudo-inverse de A"
   ]
  },
  {
   "cell_type": "code",
   "execution_count": 51,
   "id": "64bba14d",
   "metadata": {},
   "outputs": [
    {
     "data": {
      "text/plain": [
       "EigResult(eigenvalues=array([21.12266557, -8.54866807,  0.33494657,  2.30708262,  3.78397331]), eigenvectors=array([[ 0.43402088,  0.74989756, -0.44742344, -0.13363145, -0.10937248],\n",
       "       [ 0.44147921,  0.01373897,  0.52393067, -0.20452851,  0.03490722],\n",
       "       [ 0.49304585,  0.01154926,  0.23802451,  0.03709995, -0.28826788],\n",
       "       [ 0.3874301 , -0.59509834, -0.01939405, -0.38239732, -0.29859625],\n",
       "       [ 0.47278503, -0.28842586, -0.68430777,  0.89034072,  0.90253036]]))"
      ]
     },
     "execution_count": 51,
     "metadata": {},
     "output_type": "execute_result"
    }
   ],
   "source": [
    "np.linalg.eig(A)  # valeurs et vecteurs propres de A"
   ]
  },
  {
   "cell_type": "markdown",
   "id": "c6d456f2",
   "metadata": {},
   "source": [
    "# Exercice"
   ]
  },
  {
   "cell_type": "code",
   "execution_count": 52,
   "id": "7d9a9cb9",
   "metadata": {},
   "outputs": [
    {
     "data": {
      "text/plain": [
       "array([[ 1.26497611, -1.18053114,  0.36649721, -0.52052503, -0.32875454],\n",
       "       [-0.56486355,  2.00177019, -1.28978825,  1.3449404 ,  0.02191697],\n",
       "       [ 0.58873102, -0.46194697,  1.17701988, -1.6036985 , -1.38076906],\n",
       "       [-0.76375916,  0.80412991, -0.58498593,  0.17150247, -1.73144057],\n",
       "       [ 1.42409261,  0.94100308, -0.16210453,  1.22458779,  1.11776543],\n",
       "       [ 0.78762664,  0.39351038,  2.09326289, -1.00193546,  1.73144057],\n",
       "       [-0.4853053 , -0.2566372 , -0.90214697, -0.37008427,  0.72325998],\n",
       "       [ 0.11138154,  0.05132744, -1.04310744,  0.98388257,  0.06575091],\n",
       "       [-2.0366911 , -1.11209455,  0.40173732,  0.80335366, -0.41642242],\n",
       "       [-0.32618881, -1.18053114, -0.05638419, -1.03202361,  0.19725272]])"
      ]
     },
     "execution_count": 52,
     "metadata": {},
     "output_type": "execute_result"
    }
   ],
   "source": [
    "A = np.random.randint(0,100,[10,5])\n",
    "\n",
    "moyenne = A.mean(axis=0)\n",
    "ecart_type = A.std(axis=0)\n",
    "\n",
    "A_normalised = (A - moyenne) / ecart_type\n",
    "\n",
    "A_normalised"
   ]
  }
 ],
 "metadata": {
  "kernelspec": {
   "display_name": "base",
   "language": "python",
   "name": "python3"
  },
  "language_info": {
   "codemirror_mode": {
    "name": "ipython",
    "version": 3
   },
   "file_extension": ".py",
   "mimetype": "text/x-python",
   "name": "python",
   "nbconvert_exporter": "python",
   "pygments_lexer": "ipython3",
   "version": "3.12.7"
  }
 },
 "nbformat": 4,
 "nbformat_minor": 5
}
